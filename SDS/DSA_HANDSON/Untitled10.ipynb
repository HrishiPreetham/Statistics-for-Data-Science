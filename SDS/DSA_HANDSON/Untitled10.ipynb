{
 "cells": [
  {
   "cell_type": "code",
   "execution_count": 11,
   "id": "993b1b5c",
   "metadata": {},
   "outputs": [
    {
     "name": "stdout",
     "output_type": "stream",
     "text": [
      "        one       two     three\n",
      "a -0.434272  0.663242  1.115759\n",
      "c  2.544592 -0.079268 -1.724422\n",
      "e  2.148151 -0.119347  0.675200\n",
      "h  0.437836  0.121975 -1.303106\n",
      "g  0.093074  1.159453  0.811164\n"
     ]
    }
   ],
   "source": [
    "import pandas as pd\n",
    "import numpy as np\n",
    "df=pd.DataFrame(np.random.randn(5,3),index=['a','c','e','h','g'],columns=['one','two','three'])\n",
    "print(df)"
   ]
  },
  {
   "cell_type": "code",
   "execution_count": 12,
   "id": "7f1eb6fa",
   "metadata": {},
   "outputs": [
    {
     "name": "stdout",
     "output_type": "stream",
     "text": [
      "        one       two     three\n",
      "a -0.434272  0.663242  1.115759\n",
      "b       NaN       NaN       NaN\n",
      "c  2.544592 -0.079268 -1.724422\n",
      "d       NaN       NaN       NaN\n",
      "e  2.148151 -0.119347  0.675200\n",
      "f       NaN       NaN       NaN\n",
      "g  0.093074  1.159453  0.811164\n",
      "h  0.437836  0.121975 -1.303106\n"
     ]
    }
   ],
   "source": [
    "df=df.reindex(['a','b','c','d','e','f','g','h'])\n",
    "print(df)"
   ]
  },
  {
   "cell_type": "code",
   "execution_count": 13,
   "id": "2ea0b80b",
   "metadata": {},
   "outputs": [
    {
     "data": {
      "text/plain": [
       "one      True\n",
       "two      True\n",
       "three    True\n",
       "dtype: bool"
      ]
     },
     "execution_count": 13,
     "metadata": {},
     "output_type": "execute_result"
    }
   ],
   "source": [
    "df.isnull().any()"
   ]
  },
  {
   "cell_type": "code",
   "execution_count": 14,
   "id": "0e7cf673",
   "metadata": {},
   "outputs": [
    {
     "data": {
      "text/plain": [
       "one      3\n",
       "two      3\n",
       "three    3\n",
       "dtype: int64"
      ]
     },
     "execution_count": 14,
     "metadata": {},
     "output_type": "execute_result"
    }
   ],
   "source": [
    "df.isnull().sum()"
   ]
  },
  {
   "cell_type": "code",
   "execution_count": 15,
   "id": "088952a0",
   "metadata": {},
   "outputs": [
    {
     "data": {
      "text/plain": [
       "9"
      ]
     },
     "execution_count": 15,
     "metadata": {},
     "output_type": "execute_result"
    }
   ],
   "source": [
    "df.isnull().sum().sum()"
   ]
  },
  {
   "cell_type": "code",
   "execution_count": 16,
   "id": "6d8e93a4",
   "metadata": {},
   "outputs": [
    {
     "name": "stdout",
     "output_type": "stream",
     "text": [
      "        one       two     three\n",
      "a -0.434272  0.663242  1.115759\n",
      "b       NaN       NaN       NaN\n",
      "c  2.544592 -0.079268 -1.724422\n",
      "d       NaN       NaN       NaN\n",
      "e  2.148151 -0.119347  0.675200\n",
      "f       NaN       NaN       NaN\n",
      "g  0.093074  1.159453  0.811164\n",
      "h  0.437836  0.121975 -1.303106\n"
     ]
    }
   ],
   "source": [
    "df.fillna(0)\n",
    "print(df)"
   ]
  },
  {
   "cell_type": "code",
   "execution_count": 17,
   "id": "c0c968c4",
   "metadata": {},
   "outputs": [
    {
     "data": {
      "text/html": [
       "<div>\n",
       "<style scoped>\n",
       "    .dataframe tbody tr th:only-of-type {\n",
       "        vertical-align: middle;\n",
       "    }\n",
       "\n",
       "    .dataframe tbody tr th {\n",
       "        vertical-align: top;\n",
       "    }\n",
       "\n",
       "    .dataframe thead th {\n",
       "        text-align: right;\n",
       "    }\n",
       "</style>\n",
       "<table border=\"1\" class=\"dataframe\">\n",
       "  <thead>\n",
       "    <tr style=\"text-align: right;\">\n",
       "      <th></th>\n",
       "      <th>one</th>\n",
       "      <th>two</th>\n",
       "      <th>three</th>\n",
       "    </tr>\n",
       "  </thead>\n",
       "  <tbody>\n",
       "    <tr>\n",
       "      <th>a</th>\n",
       "      <td>-0.434272</td>\n",
       "      <td>0.663242</td>\n",
       "      <td>1.115759</td>\n",
       "    </tr>\n",
       "    <tr>\n",
       "      <th>b</th>\n",
       "      <td>-0.434272</td>\n",
       "      <td>0.663242</td>\n",
       "      <td>1.115759</td>\n",
       "    </tr>\n",
       "    <tr>\n",
       "      <th>c</th>\n",
       "      <td>2.544592</td>\n",
       "      <td>-0.079268</td>\n",
       "      <td>-1.724422</td>\n",
       "    </tr>\n",
       "    <tr>\n",
       "      <th>d</th>\n",
       "      <td>2.544592</td>\n",
       "      <td>-0.079268</td>\n",
       "      <td>-1.724422</td>\n",
       "    </tr>\n",
       "    <tr>\n",
       "      <th>e</th>\n",
       "      <td>2.148151</td>\n",
       "      <td>-0.119347</td>\n",
       "      <td>0.675200</td>\n",
       "    </tr>\n",
       "    <tr>\n",
       "      <th>f</th>\n",
       "      <td>2.148151</td>\n",
       "      <td>-0.119347</td>\n",
       "      <td>0.675200</td>\n",
       "    </tr>\n",
       "    <tr>\n",
       "      <th>g</th>\n",
       "      <td>0.093074</td>\n",
       "      <td>1.159453</td>\n",
       "      <td>0.811164</td>\n",
       "    </tr>\n",
       "    <tr>\n",
       "      <th>h</th>\n",
       "      <td>0.437836</td>\n",
       "      <td>0.121975</td>\n",
       "      <td>-1.303106</td>\n",
       "    </tr>\n",
       "  </tbody>\n",
       "</table>\n",
       "</div>"
      ],
      "text/plain": [
       "        one       two     three\n",
       "a -0.434272  0.663242  1.115759\n",
       "b -0.434272  0.663242  1.115759\n",
       "c  2.544592 -0.079268 -1.724422\n",
       "d  2.544592 -0.079268 -1.724422\n",
       "e  2.148151 -0.119347  0.675200\n",
       "f  2.148151 -0.119347  0.675200\n",
       "g  0.093074  1.159453  0.811164\n",
       "h  0.437836  0.121975 -1.303106"
      ]
     },
     "execution_count": 17,
     "metadata": {},
     "output_type": "execute_result"
    }
   ],
   "source": [
    "df.fillna(method='pad')"
   ]
  },
  {
   "cell_type": "code",
   "execution_count": 18,
   "id": "21ff238e",
   "metadata": {},
   "outputs": [
    {
     "data": {
      "text/html": [
       "<div>\n",
       "<style scoped>\n",
       "    .dataframe tbody tr th:only-of-type {\n",
       "        vertical-align: middle;\n",
       "    }\n",
       "\n",
       "    .dataframe tbody tr th {\n",
       "        vertical-align: top;\n",
       "    }\n",
       "\n",
       "    .dataframe thead th {\n",
       "        text-align: right;\n",
       "    }\n",
       "</style>\n",
       "<table border=\"1\" class=\"dataframe\">\n",
       "  <thead>\n",
       "    <tr style=\"text-align: right;\">\n",
       "      <th></th>\n",
       "      <th>one</th>\n",
       "      <th>two</th>\n",
       "      <th>three</th>\n",
       "    </tr>\n",
       "  </thead>\n",
       "  <tbody>\n",
       "    <tr>\n",
       "      <th>a</th>\n",
       "      <td>-0.434272</td>\n",
       "      <td>0.663242</td>\n",
       "      <td>1.115759</td>\n",
       "    </tr>\n",
       "    <tr>\n",
       "      <th>b</th>\n",
       "      <td>2.544592</td>\n",
       "      <td>-0.079268</td>\n",
       "      <td>-1.724422</td>\n",
       "    </tr>\n",
       "    <tr>\n",
       "      <th>c</th>\n",
       "      <td>2.544592</td>\n",
       "      <td>-0.079268</td>\n",
       "      <td>-1.724422</td>\n",
       "    </tr>\n",
       "    <tr>\n",
       "      <th>d</th>\n",
       "      <td>2.148151</td>\n",
       "      <td>-0.119347</td>\n",
       "      <td>0.675200</td>\n",
       "    </tr>\n",
       "    <tr>\n",
       "      <th>e</th>\n",
       "      <td>2.148151</td>\n",
       "      <td>-0.119347</td>\n",
       "      <td>0.675200</td>\n",
       "    </tr>\n",
       "    <tr>\n",
       "      <th>f</th>\n",
       "      <td>0.093074</td>\n",
       "      <td>1.159453</td>\n",
       "      <td>0.811164</td>\n",
       "    </tr>\n",
       "    <tr>\n",
       "      <th>g</th>\n",
       "      <td>0.093074</td>\n",
       "      <td>1.159453</td>\n",
       "      <td>0.811164</td>\n",
       "    </tr>\n",
       "    <tr>\n",
       "      <th>h</th>\n",
       "      <td>0.437836</td>\n",
       "      <td>0.121975</td>\n",
       "      <td>-1.303106</td>\n",
       "    </tr>\n",
       "  </tbody>\n",
       "</table>\n",
       "</div>"
      ],
      "text/plain": [
       "        one       two     three\n",
       "a -0.434272  0.663242  1.115759\n",
       "b  2.544592 -0.079268 -1.724422\n",
       "c  2.544592 -0.079268 -1.724422\n",
       "d  2.148151 -0.119347  0.675200\n",
       "e  2.148151 -0.119347  0.675200\n",
       "f  0.093074  1.159453  0.811164\n",
       "g  0.093074  1.159453  0.811164\n",
       "h  0.437836  0.121975 -1.303106"
      ]
     },
     "execution_count": 18,
     "metadata": {},
     "output_type": "execute_result"
    }
   ],
   "source": [
    "df.fillna(method='bfill')"
   ]
  },
  {
   "cell_type": "code",
   "execution_count": 20,
   "id": "c22cb317",
   "metadata": {},
   "outputs": [
    {
     "data": {
      "text/html": [
       "<div>\n",
       "<style scoped>\n",
       "    .dataframe tbody tr th:only-of-type {\n",
       "        vertical-align: middle;\n",
       "    }\n",
       "\n",
       "    .dataframe tbody tr th {\n",
       "        vertical-align: top;\n",
       "    }\n",
       "\n",
       "    .dataframe thead th {\n",
       "        text-align: right;\n",
       "    }\n",
       "</style>\n",
       "<table border=\"1\" class=\"dataframe\">\n",
       "  <thead>\n",
       "    <tr style=\"text-align: right;\">\n",
       "      <th></th>\n",
       "      <th>one</th>\n",
       "      <th>two</th>\n",
       "      <th>three</th>\n",
       "    </tr>\n",
       "  </thead>\n",
       "  <tbody>\n",
       "    <tr>\n",
       "      <th>a</th>\n",
       "      <td>-0.434272</td>\n",
       "      <td>0.663242</td>\n",
       "      <td>1.115759</td>\n",
       "    </tr>\n",
       "    <tr>\n",
       "      <th>b</th>\n",
       "      <td>1.055160</td>\n",
       "      <td>0.291987</td>\n",
       "      <td>-0.304332</td>\n",
       "    </tr>\n",
       "    <tr>\n",
       "      <th>c</th>\n",
       "      <td>2.544592</td>\n",
       "      <td>-0.079268</td>\n",
       "      <td>-1.724422</td>\n",
       "    </tr>\n",
       "    <tr>\n",
       "      <th>d</th>\n",
       "      <td>2.346372</td>\n",
       "      <td>-0.099308</td>\n",
       "      <td>-0.524611</td>\n",
       "    </tr>\n",
       "    <tr>\n",
       "      <th>e</th>\n",
       "      <td>2.148151</td>\n",
       "      <td>-0.119347</td>\n",
       "      <td>0.675200</td>\n",
       "    </tr>\n",
       "    <tr>\n",
       "      <th>f</th>\n",
       "      <td>1.120613</td>\n",
       "      <td>0.520053</td>\n",
       "      <td>0.743182</td>\n",
       "    </tr>\n",
       "    <tr>\n",
       "      <th>g</th>\n",
       "      <td>0.093074</td>\n",
       "      <td>1.159453</td>\n",
       "      <td>0.811164</td>\n",
       "    </tr>\n",
       "    <tr>\n",
       "      <th>h</th>\n",
       "      <td>0.437836</td>\n",
       "      <td>0.121975</td>\n",
       "      <td>-1.303106</td>\n",
       "    </tr>\n",
       "  </tbody>\n",
       "</table>\n",
       "</div>"
      ],
      "text/plain": [
       "        one       two     three\n",
       "a -0.434272  0.663242  1.115759\n",
       "b  1.055160  0.291987 -0.304332\n",
       "c  2.544592 -0.079268 -1.724422\n",
       "d  2.346372 -0.099308 -0.524611\n",
       "e  2.148151 -0.119347  0.675200\n",
       "f  1.120613  0.520053  0.743182\n",
       "g  0.093074  1.159453  0.811164\n",
       "h  0.437836  0.121975 -1.303106"
      ]
     },
     "execution_count": 20,
     "metadata": {},
     "output_type": "execute_result"
    }
   ],
   "source": [
    "df.interpolate()"
   ]
  },
  {
   "cell_type": "code",
   "execution_count": 21,
   "id": "e813da22",
   "metadata": {},
   "outputs": [
    {
     "data": {
      "text/html": [
       "<div>\n",
       "<style scoped>\n",
       "    .dataframe tbody tr th:only-of-type {\n",
       "        vertical-align: middle;\n",
       "    }\n",
       "\n",
       "    .dataframe tbody tr th {\n",
       "        vertical-align: top;\n",
       "    }\n",
       "\n",
       "    .dataframe thead th {\n",
       "        text-align: right;\n",
       "    }\n",
       "</style>\n",
       "<table border=\"1\" class=\"dataframe\">\n",
       "  <thead>\n",
       "    <tr style=\"text-align: right;\">\n",
       "      <th></th>\n",
       "      <th>one</th>\n",
       "      <th>two</th>\n",
       "      <th>three</th>\n",
       "    </tr>\n",
       "  </thead>\n",
       "  <tbody>\n",
       "    <tr>\n",
       "      <th>a</th>\n",
       "      <td>-0.434272</td>\n",
       "      <td>0.663242</td>\n",
       "      <td>1.115759</td>\n",
       "    </tr>\n",
       "    <tr>\n",
       "      <th>c</th>\n",
       "      <td>2.544592</td>\n",
       "      <td>-0.079268</td>\n",
       "      <td>-1.724422</td>\n",
       "    </tr>\n",
       "    <tr>\n",
       "      <th>e</th>\n",
       "      <td>2.148151</td>\n",
       "      <td>-0.119347</td>\n",
       "      <td>0.675200</td>\n",
       "    </tr>\n",
       "    <tr>\n",
       "      <th>g</th>\n",
       "      <td>0.093074</td>\n",
       "      <td>1.159453</td>\n",
       "      <td>0.811164</td>\n",
       "    </tr>\n",
       "    <tr>\n",
       "      <th>h</th>\n",
       "      <td>0.437836</td>\n",
       "      <td>0.121975</td>\n",
       "      <td>-1.303106</td>\n",
       "    </tr>\n",
       "  </tbody>\n",
       "</table>\n",
       "</div>"
      ],
      "text/plain": [
       "        one       two     three\n",
       "a -0.434272  0.663242  1.115759\n",
       "c  2.544592 -0.079268 -1.724422\n",
       "e  2.148151 -0.119347  0.675200\n",
       "g  0.093074  1.159453  0.811164\n",
       "h  0.437836  0.121975 -1.303106"
      ]
     },
     "execution_count": 21,
     "metadata": {},
     "output_type": "execute_result"
    }
   ],
   "source": [
    "df.dropna()"
   ]
  },
  {
   "cell_type": "code",
   "execution_count": 22,
   "id": "7c07a270",
   "metadata": {},
   "outputs": [
    {
     "data": {
      "text/plain": [
       "a   -0.434272\n",
       "c    2.544592\n",
       "e    2.148151\n",
       "g    0.093074\n",
       "h    0.437836\n",
       "Name: one, dtype: float64"
      ]
     },
     "execution_count": 22,
     "metadata": {},
     "output_type": "execute_result"
    }
   ],
   "source": [
    "df['one'].dropna()"
   ]
  },
  {
   "cell_type": "code",
   "execution_count": null,
   "id": "bd681f7d",
   "metadata": {},
   "outputs": [],
   "source": []
  }
 ],
 "metadata": {
  "kernelspec": {
   "display_name": "Python 3 (ipykernel)",
   "language": "python",
   "name": "python3"
  },
  "language_info": {
   "codemirror_mode": {
    "name": "ipython",
    "version": 3
   },
   "file_extension": ".py",
   "mimetype": "text/x-python",
   "name": "python",
   "nbconvert_exporter": "python",
   "pygments_lexer": "ipython3",
   "version": "3.9.12"
  }
 },
 "nbformat": 4,
 "nbformat_minor": 5
}
