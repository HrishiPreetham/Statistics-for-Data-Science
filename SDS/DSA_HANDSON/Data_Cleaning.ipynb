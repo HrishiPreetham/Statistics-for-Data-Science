{
 "cells": [
  {
   "cell_type": "code",
   "execution_count": 2,
   "id": "98dcca2b",
   "metadata": {},
   "outputs": [
    {
     "name": "stdout",
     "output_type": "stream",
     "text": [
      "        one       two     three\n",
      "a -1.502953  2.522569 -1.206214\n",
      "c -0.622701 -0.233286  0.114183\n",
      "e  1.265052 -0.985314  1.424891\n",
      "f  0.859388 -1.878842 -0.296355\n",
      "h -1.383751 -0.685520 -0.580249\n",
      "        one       two     three\n",
      "a -1.502953  2.522569 -1.206214\n",
      "b       NaN       NaN       NaN\n",
      "c -0.622701 -0.233286  0.114183\n",
      "d       NaN       NaN       NaN\n",
      "e  1.265052 -0.985314  1.424891\n",
      "f  0.859388 -1.878842 -0.296355\n",
      "g       NaN       NaN       NaN\n",
      "h -1.383751 -0.685520 -0.580249\n",
      "-0.6227014504510724\n",
      "a    False\n",
      "b     True\n",
      "c    False\n",
      "d     True\n",
      "e    False\n",
      "f    False\n",
      "g     True\n",
      "h    False\n",
      "Name: one, dtype: bool\n",
      "one      3\n",
      "two      3\n",
      "three    3\n",
      "dtype: int64\n",
      "True\n"
     ]
    }
   ],
   "source": [
    "import pandas as pd\n",
    "import numpy as np\n",
    "\n",
    "df=pd.DataFrame(np.random.randn(5,3),index=['a','c','e','f','h'],columns=['one','two','three'])\n",
    "print(df)\n",
    "df=df.reindex(['a','b','c','d','e','f','g','h'])\n",
    "print(df)\n",
    "print(df['one'].median())\n",
    "print(df['one'].isnull())\n",
    "df.isnull().any()\n",
    "\n",
    "#Total missing value for each attribute\n",
    "print(df.isnull().sum())\n",
    "#any missing value\n",
    "print(df['one'].isnull().values.any())"
   ]
  },
  {
   "cell_type": "code",
   "execution_count": 3,
   "id": "20599372",
   "metadata": {},
   "outputs": [
    {
     "name": "stdout",
     "output_type": "stream",
     "text": [
      "9\n"
     ]
    }
   ],
   "source": [
    "#total number of missing values\n",
    "print(df.isnull().sum().sum())"
   ]
  },
  {
   "cell_type": "code",
   "execution_count": 5,
   "id": "471bcc15",
   "metadata": {},
   "outputs": [
    {
     "name": "stdout",
     "output_type": "stream",
     "text": [
      "NaN is replaced with 0\n",
      "        one       two     three\n",
      "a -1.502953  2.522569 -1.206214\n",
      "b  0.000000  0.000000  0.000000\n",
      "c -0.622701 -0.233286  0.114183\n",
      "d  0.000000  0.000000  0.000000\n",
      "e  1.265052 -0.985314  1.424891\n",
      "f  0.859388 -1.878842 -0.296355\n",
      "g  0.000000  0.000000  0.000000\n",
      "h -1.383751 -0.685520 -0.580249\n"
     ]
    }
   ],
   "source": [
    "print('NaN is replaced with 0')\n",
    "print(df.fillna(0))\n",
    "#fills the NaN with 0"
   ]
  },
  {
   "cell_type": "code",
   "execution_count": 7,
   "id": "ffae7063",
   "metadata": {},
   "outputs": [
    {
     "name": "stdout",
     "output_type": "stream",
     "text": [
      "        one       two     three\n",
      "a -1.502953  2.522569 -1.206214\n",
      "b       NaN       NaN       NaN\n",
      "c -0.622701 -0.233286  0.114183\n",
      "d       NaN       NaN       NaN\n",
      "e  1.265052 -0.985314  1.424891\n",
      "f  0.859388 -1.878842 -0.296355\n",
      "g       NaN       NaN       NaN\n",
      "h -1.383751 -0.685520 -0.580249\n",
      "        one       two     three\n",
      "a -1.502953  2.522569 -1.206214\n",
      "b -1.502953  2.522569 -1.206214\n",
      "c -0.622701 -0.233286  0.114183\n",
      "d -0.622701 -0.233286  0.114183\n",
      "e  1.265052 -0.985314  1.424891\n",
      "f  0.859388 -1.878842 -0.296355\n",
      "g  0.859388 -1.878842 -0.296355\n",
      "h -1.383751 -0.685520 -0.580249\n"
     ]
    }
   ],
   "source": [
    "print(df)\n",
    "print(df.fillna(method='pad'))\n",
    "#fills the NaN with the previous value of the row of a particular column  "
   ]
  },
  {
   "cell_type": "code",
   "execution_count": 8,
   "id": "48ec2dbc",
   "metadata": {},
   "outputs": [
    {
     "name": "stdout",
     "output_type": "stream",
     "text": [
      "        one       two     three\n",
      "a -1.502953  2.522569 -1.206214\n",
      "b       NaN       NaN       NaN\n",
      "c -0.622701 -0.233286  0.114183\n",
      "d       NaN       NaN       NaN\n",
      "e  1.265052 -0.985314  1.424891\n",
      "f  0.859388 -1.878842 -0.296355\n",
      "g       NaN       NaN       NaN\n",
      "h -1.383751 -0.685520 -0.580249\n",
      "        one       two     three\n",
      "a -1.502953  2.522569 -1.206214\n",
      "b -0.622701 -0.233286  0.114183\n",
      "c -0.622701 -0.233286  0.114183\n",
      "d  1.265052 -0.985314  1.424891\n",
      "e  1.265052 -0.985314  1.424891\n",
      "f  0.859388 -1.878842 -0.296355\n",
      "g -1.383751 -0.685520 -0.580249\n",
      "h -1.383751 -0.685520 -0.580249\n"
     ]
    }
   ],
   "source": [
    "print(df)\n",
    "print(df.fillna(method='bfill'))\n",
    "#it fills the NaN with the value preceding a row of a column"
   ]
  },
  {
   "cell_type": "code",
   "execution_count": 9,
   "id": "f6d09127",
   "metadata": {},
   "outputs": [
    {
     "name": "stdout",
     "output_type": "stream",
     "text": [
      "        one       two     three\n",
      "a -1.502953  2.522569 -1.206214\n",
      "b       NaN       NaN       NaN\n",
      "c -0.622701 -0.233286  0.114183\n",
      "d       NaN       NaN       NaN\n",
      "e  1.265052 -0.985314  1.424891\n",
      "f  0.859388 -1.878842 -0.296355\n",
      "g       NaN       NaN       NaN\n",
      "h -1.383751 -0.685520 -0.580249\n",
      "        one       two     three\n",
      "a -1.502953  2.522569 -1.206214\n",
      "b -1.062827  1.144641 -0.546015\n",
      "c -0.622701 -0.233286  0.114183\n",
      "d  0.321175 -0.609300  0.769537\n",
      "e  1.265052 -0.985314  1.424891\n",
      "f  0.859388 -1.878842 -0.296355\n",
      "g -0.262182 -1.282181 -0.438302\n",
      "h -1.383751 -0.685520 -0.580249\n"
     ]
    }
   ],
   "source": [
    "print(df)\n",
    "print(df.interpolate())\n",
    "#fills NaN with the average of the forward and the backward values in rows of a particular column"
   ]
  },
  {
   "cell_type": "code",
   "execution_count": 11,
   "id": "7b5d7b88",
   "metadata": {},
   "outputs": [
    {
     "name": "stdout",
     "output_type": "stream",
     "text": [
      "        one       two     three\n",
      "a -1.502953  2.522569 -1.206214\n",
      "b       NaN       NaN       NaN\n",
      "c -0.622701 -0.233286  0.114183\n",
      "d       NaN       NaN       NaN\n",
      "e  1.265052 -0.985314  1.424891\n",
      "f  0.859388 -1.878842 -0.296355\n",
      "g       NaN       NaN       NaN\n",
      "h -1.383751 -0.685520 -0.580249\n",
      "        one       two     three\n",
      "a -1.502953  2.522569 -1.206214\n",
      "c -0.622701 -0.233286  0.114183\n",
      "e  1.265052 -0.985314  1.424891\n",
      "f  0.859388 -1.878842 -0.296355\n",
      "h -1.383751 -0.685520 -0.580249\n"
     ]
    }
   ],
   "source": [
    "print(df)\n",
    "print(df.dropna())\n",
    "#drops the observations having NaN values"
   ]
  },
  {
   "cell_type": "code",
   "execution_count": 12,
   "id": "6e02ec0b",
   "metadata": {},
   "outputs": [
    {
     "data": {
      "text/plain": [
       "a   -1.502953\n",
       "c   -0.622701\n",
       "e    1.265052\n",
       "f    0.859388\n",
       "h   -1.383751\n",
       "Name: one, dtype: float64"
      ]
     },
     "execution_count": 12,
     "metadata": {},
     "output_type": "execute_result"
    }
   ],
   "source": [
    "df['one'].dropna()\n",
    "#drops the missing value of a particular column specified by the user"
   ]
  },
  {
   "cell_type": "code",
   "execution_count": 13,
   "id": "71b88bc0",
   "metadata": {},
   "outputs": [
    {
     "data": {
      "text/html": [
       "<div>\n",
       "<style scoped>\n",
       "    .dataframe tbody tr th:only-of-type {\n",
       "        vertical-align: middle;\n",
       "    }\n",
       "\n",
       "    .dataframe tbody tr th {\n",
       "        vertical-align: top;\n",
       "    }\n",
       "\n",
       "    .dataframe thead th {\n",
       "        text-align: right;\n",
       "    }\n",
       "</style>\n",
       "<table border=\"1\" class=\"dataframe\">\n",
       "  <thead>\n",
       "    <tr style=\"text-align: right;\">\n",
       "      <th></th>\n",
       "      <th>brand</th>\n",
       "      <th>style</th>\n",
       "      <th>rating</th>\n",
       "    </tr>\n",
       "  </thead>\n",
       "  <tbody>\n",
       "    <tr>\n",
       "      <th>0</th>\n",
       "      <td>YumYum</td>\n",
       "      <td>cup</td>\n",
       "      <td>4.0</td>\n",
       "    </tr>\n",
       "    <tr>\n",
       "      <th>1</th>\n",
       "      <td>YumYum</td>\n",
       "      <td>cup</td>\n",
       "      <td>4.0</td>\n",
       "    </tr>\n",
       "    <tr>\n",
       "      <th>2</th>\n",
       "      <td>Indomie</td>\n",
       "      <td>cup</td>\n",
       "      <td>3.5</td>\n",
       "    </tr>\n",
       "    <tr>\n",
       "      <th>3</th>\n",
       "      <td>Indomie</td>\n",
       "      <td>pack</td>\n",
       "      <td>15.0</td>\n",
       "    </tr>\n",
       "    <tr>\n",
       "      <th>4</th>\n",
       "      <td>Indomie</td>\n",
       "      <td>pack</td>\n",
       "      <td>5.0</td>\n",
       "    </tr>\n",
       "  </tbody>\n",
       "</table>\n",
       "</div>"
      ],
      "text/plain": [
       "     brand style  rating\n",
       "0   YumYum   cup     4.0\n",
       "1   YumYum   cup     4.0\n",
       "2  Indomie   cup     3.5\n",
       "3  Indomie  pack    15.0\n",
       "4  Indomie  pack     5.0"
      ]
     },
     "execution_count": 13,
     "metadata": {},
     "output_type": "execute_result"
    }
   ],
   "source": [
    "df=pd.DataFrame({'brand':['YumYum','YumYum','Indomie','Indomie','Indomie'],\n",
    "                'style':['cup','cup','cup','pack','pack'],\n",
    "                'rating':[4,4,3.5,15,5]})\n",
    "df"
   ]
  },
  {
   "cell_type": "code",
   "execution_count": 14,
   "id": "cf1d2021",
   "metadata": {},
   "outputs": [
    {
     "data": {
      "text/html": [
       "<div>\n",
       "<style scoped>\n",
       "    .dataframe tbody tr th:only-of-type {\n",
       "        vertical-align: middle;\n",
       "    }\n",
       "\n",
       "    .dataframe tbody tr th {\n",
       "        vertical-align: top;\n",
       "    }\n",
       "\n",
       "    .dataframe thead th {\n",
       "        text-align: right;\n",
       "    }\n",
       "</style>\n",
       "<table border=\"1\" class=\"dataframe\">\n",
       "  <thead>\n",
       "    <tr style=\"text-align: right;\">\n",
       "      <th></th>\n",
       "      <th>brand</th>\n",
       "      <th>style</th>\n",
       "      <th>rating</th>\n",
       "    </tr>\n",
       "  </thead>\n",
       "  <tbody>\n",
       "    <tr>\n",
       "      <th>0</th>\n",
       "      <td>YumYum</td>\n",
       "      <td>cup</td>\n",
       "      <td>4.0</td>\n",
       "    </tr>\n",
       "    <tr>\n",
       "      <th>2</th>\n",
       "      <td>Indomie</td>\n",
       "      <td>cup</td>\n",
       "      <td>3.5</td>\n",
       "    </tr>\n",
       "    <tr>\n",
       "      <th>3</th>\n",
       "      <td>Indomie</td>\n",
       "      <td>pack</td>\n",
       "      <td>15.0</td>\n",
       "    </tr>\n",
       "    <tr>\n",
       "      <th>4</th>\n",
       "      <td>Indomie</td>\n",
       "      <td>pack</td>\n",
       "      <td>5.0</td>\n",
       "    </tr>\n",
       "  </tbody>\n",
       "</table>\n",
       "</div>"
      ],
      "text/plain": [
       "     brand style  rating\n",
       "0   YumYum   cup     4.0\n",
       "2  Indomie   cup     3.5\n",
       "3  Indomie  pack    15.0\n",
       "4  Indomie  pack     5.0"
      ]
     },
     "execution_count": 14,
     "metadata": {},
     "output_type": "execute_result"
    }
   ],
   "source": [
    "df.drop_duplicates()\n",
    "#drops observation having all the columns of the same data"
   ]
  },
  {
   "cell_type": "code",
   "execution_count": 15,
   "id": "8b367bad",
   "metadata": {},
   "outputs": [
    {
     "data": {
      "text/html": [
       "<div>\n",
       "<style scoped>\n",
       "    .dataframe tbody tr th:only-of-type {\n",
       "        vertical-align: middle;\n",
       "    }\n",
       "\n",
       "    .dataframe tbody tr th {\n",
       "        vertical-align: top;\n",
       "    }\n",
       "\n",
       "    .dataframe thead th {\n",
       "        text-align: right;\n",
       "    }\n",
       "</style>\n",
       "<table border=\"1\" class=\"dataframe\">\n",
       "  <thead>\n",
       "    <tr style=\"text-align: right;\">\n",
       "      <th></th>\n",
       "      <th>brand</th>\n",
       "      <th>style</th>\n",
       "      <th>rating</th>\n",
       "    </tr>\n",
       "  </thead>\n",
       "  <tbody>\n",
       "    <tr>\n",
       "      <th>0</th>\n",
       "      <td>YumYum</td>\n",
       "      <td>cup</td>\n",
       "      <td>4.0</td>\n",
       "    </tr>\n",
       "    <tr>\n",
       "      <th>2</th>\n",
       "      <td>Indomie</td>\n",
       "      <td>cup</td>\n",
       "      <td>3.5</td>\n",
       "    </tr>\n",
       "  </tbody>\n",
       "</table>\n",
       "</div>"
      ],
      "text/plain": [
       "     brand style  rating\n",
       "0   YumYum   cup     4.0\n",
       "2  Indomie   cup     3.5"
      ]
     },
     "execution_count": 15,
     "metadata": {},
     "output_type": "execute_result"
    }
   ],
   "source": [
    "df.drop_duplicates(subset=['brand'])\n",
    "#drops the observation having the same value based on the parameter specified by the user"
   ]
  },
  {
   "cell_type": "code",
   "execution_count": 16,
   "id": "6924f8c1",
   "metadata": {},
   "outputs": [
    {
     "data": {
      "text/html": [
       "<div>\n",
       "<style scoped>\n",
       "    .dataframe tbody tr th:only-of-type {\n",
       "        vertical-align: middle;\n",
       "    }\n",
       "\n",
       "    .dataframe tbody tr th {\n",
       "        vertical-align: top;\n",
       "    }\n",
       "\n",
       "    .dataframe thead th {\n",
       "        text-align: right;\n",
       "    }\n",
       "</style>\n",
       "<table border=\"1\" class=\"dataframe\">\n",
       "  <thead>\n",
       "    <tr style=\"text-align: right;\">\n",
       "      <th></th>\n",
       "      <th>brand</th>\n",
       "      <th>style</th>\n",
       "      <th>rating</th>\n",
       "    </tr>\n",
       "  </thead>\n",
       "  <tbody>\n",
       "    <tr>\n",
       "      <th>0</th>\n",
       "      <td>YumYum</td>\n",
       "      <td>cup</td>\n",
       "      <td>4.0</td>\n",
       "    </tr>\n",
       "    <tr>\n",
       "      <th>3</th>\n",
       "      <td>Indomie</td>\n",
       "      <td>pack</td>\n",
       "      <td>15.0</td>\n",
       "    </tr>\n",
       "  </tbody>\n",
       "</table>\n",
       "</div>"
      ],
      "text/plain": [
       "     brand style  rating\n",
       "0   YumYum   cup     4.0\n",
       "3  Indomie  pack    15.0"
      ]
     },
     "execution_count": 16,
     "metadata": {},
     "output_type": "execute_result"
    }
   ],
   "source": [
    "df.drop_duplicates(subset=['style'])"
   ]
  },
  {
   "cell_type": "code",
   "execution_count": 17,
   "id": "912c9ba2",
   "metadata": {},
   "outputs": [
    {
     "data": {
      "text/html": [
       "<div>\n",
       "<style scoped>\n",
       "    .dataframe tbody tr th:only-of-type {\n",
       "        vertical-align: middle;\n",
       "    }\n",
       "\n",
       "    .dataframe tbody tr th {\n",
       "        vertical-align: top;\n",
       "    }\n",
       "\n",
       "    .dataframe thead th {\n",
       "        text-align: right;\n",
       "    }\n",
       "</style>\n",
       "<table border=\"1\" class=\"dataframe\">\n",
       "  <thead>\n",
       "    <tr style=\"text-align: right;\">\n",
       "      <th></th>\n",
       "      <th>brand</th>\n",
       "      <th>style</th>\n",
       "      <th>rating</th>\n",
       "    </tr>\n",
       "  </thead>\n",
       "  <tbody>\n",
       "    <tr>\n",
       "      <th>0</th>\n",
       "      <td>YumYum</td>\n",
       "      <td>cup</td>\n",
       "      <td>4.0</td>\n",
       "    </tr>\n",
       "    <tr>\n",
       "      <th>2</th>\n",
       "      <td>Indomie</td>\n",
       "      <td>cup</td>\n",
       "      <td>3.5</td>\n",
       "    </tr>\n",
       "    <tr>\n",
       "      <th>3</th>\n",
       "      <td>Indomie</td>\n",
       "      <td>pack</td>\n",
       "      <td>15.0</td>\n",
       "    </tr>\n",
       "    <tr>\n",
       "      <th>4</th>\n",
       "      <td>Indomie</td>\n",
       "      <td>pack</td>\n",
       "      <td>5.0</td>\n",
       "    </tr>\n",
       "  </tbody>\n",
       "</table>\n",
       "</div>"
      ],
      "text/plain": [
       "     brand style  rating\n",
       "0   YumYum   cup     4.0\n",
       "2  Indomie   cup     3.5\n",
       "3  Indomie  pack    15.0\n",
       "4  Indomie  pack     5.0"
      ]
     },
     "execution_count": 17,
     "metadata": {},
     "output_type": "execute_result"
    }
   ],
   "source": [
    "df.drop_duplicates(subset=['rating'])"
   ]
  },
  {
   "cell_type": "code",
   "execution_count": 20,
   "id": "53f84c65",
   "metadata": {},
   "outputs": [
    {
     "data": {
      "text/html": [
       "<div>\n",
       "<style scoped>\n",
       "    .dataframe tbody tr th:only-of-type {\n",
       "        vertical-align: middle;\n",
       "    }\n",
       "\n",
       "    .dataframe tbody tr th {\n",
       "        vertical-align: top;\n",
       "    }\n",
       "\n",
       "    .dataframe thead th {\n",
       "        text-align: right;\n",
       "    }\n",
       "</style>\n",
       "<table border=\"1\" class=\"dataframe\">\n",
       "  <thead>\n",
       "    <tr style=\"text-align: right;\">\n",
       "      <th></th>\n",
       "      <th>brand</th>\n",
       "      <th>style</th>\n",
       "      <th>rating</th>\n",
       "    </tr>\n",
       "  </thead>\n",
       "  <tbody>\n",
       "    <tr>\n",
       "      <th>1</th>\n",
       "      <td>YumYum</td>\n",
       "      <td>cup</td>\n",
       "      <td>4.0</td>\n",
       "    </tr>\n",
       "    <tr>\n",
       "      <th>2</th>\n",
       "      <td>Indomie</td>\n",
       "      <td>cup</td>\n",
       "      <td>3.5</td>\n",
       "    </tr>\n",
       "    <tr>\n",
       "      <th>4</th>\n",
       "      <td>Indomie</td>\n",
       "      <td>pack</td>\n",
       "      <td>5.0</td>\n",
       "    </tr>\n",
       "  </tbody>\n",
       "</table>\n",
       "</div>"
      ],
      "text/plain": [
       "     brand style  rating\n",
       "1   YumYum   cup     4.0\n",
       "2  Indomie   cup     3.5\n",
       "4  Indomie  pack     5.0"
      ]
     },
     "execution_count": 20,
     "metadata": {},
     "output_type": "execute_result"
    }
   ],
   "source": [
    "df.drop_duplicates(subset=['brand','style'],keep='last')\n",
    "#it retains the duplicate value of the last row"
   ]
  },
  {
   "cell_type": "code",
   "execution_count": null,
   "id": "7a44775e",
   "metadata": {},
   "outputs": [],
   "source": []
  }
 ],
 "metadata": {
  "kernelspec": {
   "display_name": "Python 3 (ipykernel)",
   "language": "python",
   "name": "python3"
  },
  "language_info": {
   "codemirror_mode": {
    "name": "ipython",
    "version": 3
   },
   "file_extension": ".py",
   "mimetype": "text/x-python",
   "name": "python",
   "nbconvert_exporter": "python",
   "pygments_lexer": "ipython3",
   "version": "3.9.12"
  }
 },
 "nbformat": 4,
 "nbformat_minor": 5
}
