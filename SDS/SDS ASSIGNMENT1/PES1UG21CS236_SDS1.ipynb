{
 "cells": [
  {
   "cell_type": "code",
   "execution_count": 2,
   "id": "ee649357",
   "metadata": {},
   "outputs": [
    {
     "data": {
      "image/png": "[encoded data removed]",
      "text/plain": [
       "<Figure size 432x288 with 1 Axes>"
      ]
     },
     "metadata": {
      "needs_background": "light"
     },
     "output_type": "display_data"
    },
    {
     "name": "stdout",
     "output_type": "stream",
     "text": [
      "six,six,five,three,one,five,three,one,five,three,one,six,four,two,six,four,two,four,two,one,five,three,one,five,three,one,five,three,one,five,"
     ]
    }
   ],
   "source": [
    "import time\n",
    "import numpy as np\n",
    "import matplotlib.pyplot as plt\n",
    "#def pseudo_uniform_badmethod(mult=5,mod=11,seed=1,size=1):\n",
    "  #  U=np.zeros(size)\n",
    "  #  x=(seed*mult+1)%mod\n",
    "   # U[0]=x/mod\n",
    "   # for i in range(1,size)\n",
    "   #     x=(x*mult+1)%mod\n",
    "   #     U[i]=x/mod\n",
    "   # return U\n",
    "# This is a bad method of creating a random number generator\n",
    "def pseudo_uniform_good(mult=16807,mod=(2**31)-1,seed=123456789,size=1):\n",
    "    U=np.zeros(size)\n",
    "    x=(seed*mult+1)%mod\n",
    "    U[0]=x/mod\n",
    "    for i in range(1,size):\n",
    "        x=(x*mult+1)%mod\n",
    "        U[i]=x/mod\n",
    "    return U\n",
    "def pseudo_uniform(low=0,high=1,seed=123456789,size=1):\n",
    "    return low+(high-low)*pseudo_uniform_good(seed=seed,size=size)\n",
    "l=pseudo_uniform(low=-5,high=7,size=10000)\n",
    "plt.hist(l,bins=20,edgecolor='k')\n",
    "plt.xticks(fontsize=15)\n",
    "plt.yticks(fontsize=15)\n",
    "plt.xlim(-6,8)\n",
    "plt.show()\n",
    "\n",
    "def sample_pick(lst):\n",
    "    t=time.perf_counter()\n",
    "    seed=int(10**9*float(str(t-int(t))[0:]))\n",
    "    l=len(lst)\n",
    "    s=pseudo_uniform(low=0,high=l,seed=seed,size=1)\n",
    "    idx=int(s)\n",
    "    return (lst[idx])\n",
    "\n",
    "\n",
    "dice_faces=['one','two','three','four','five','six']\n",
    "for _ in range(30):\n",
    "    print(sample_pick(dice_faces),end=',')\n",
    "    \n",
    "def pseudo_bernoulli(p=0.5,size=1):\n",
    "    t=time.perf_counter()\n",
    "    seed=int(10**9*float(str(t-int(t))[0:]))\n",
    "    B=pseudo_uniform(seed=seed,size=size)\n",
    "    B=(B<=p).astype(int)\n",
    "    return B\n",
    "\n",
    "def pseudo_binomial(n=100,p=0.5,size=1):\n",
    "    binom=[]\n",
    "    for _ in range(size):\n",
    "        t=time.perf_counter()\n",
    "        seed=int(10**9*float(str(t-int(t))[0:]))\n",
    "        U=pseudo_uniform(size=n,seed=seed)\n",
    "        Y=(U<=p).astype(int)\n",
    "        binom.append(np.sum(Y))\n",
    "    return binom\n",
    "\n",
    "\n",
    "def pseudo_poisson(alpha,size=1):\n",
    "    poisson=[]\n",
    "    for _ in range(size):\n",
    "        t=time.perf_counter()\n",
    "        seed=int(10**9*float(str(t-int(t))[0:]))\n",
    "        U=pseudo_uniform(seed=seed,size=5*alpha)\n",
    "        X,P,i=0,1,0\n",
    "        while(P>=np.exp(-alpha)):\n",
    "            P=U[i]*P\n",
    "            X+=1\n",
    "            i+=1\n",
    "        poisson.append(X)\n",
    "    return np.array(poisson)\n",
    "pseudo_binomial(n=100,p=0.75,size=15)\n",
    "\n",
    "def pseudo_exp(lamb,size=-1):\n",
    "    t=time.perf_counter()\n",
    "    seed=int(10**9*float(str(t-int(t))[0:]))\n",
    "    U=pseudo_uniform(size=size,seed=seed)\n",
    "    X=-(1/lamb)*(np.log(1-U))\n",
    "    return X\n",
    "\n",
    "def pseudo_normal(mu=0.0,sigma=1.0,size=1):\n",
    "    t=time.perf_counter()\n",
    "    seed=int(10**9*float(str(t-int(t))[0:]))\n",
    "    U1=pseudo_uniform(seed=seed1,size=size)\n",
    "    t=time.perf_counter()\n",
    "    seed2=int(10**9*float(str(t-int(t))[0:]))\n",
    "    U2=pseudo_uniform(seed=seed,size=size)\n",
    "    Z0=np.sqrt(-2*np.log(U1))*np.cos(2*np.pi*U2)\n",
    "    Z1=np.sqrt(-2*np.log(U2))*np.cos(2*np.pi*U2)\n",
    "    Z0=Z0*sigma+mu\n",
    "    return Z0\n"
   ]
  },
  {
   "cell_type": "code",
   "execution_count": null,
   "id": "e8ad4399",
   "metadata": {},
   "outputs": [],
   "source": []
  }
 ],
 "metadata": {
  "kernelspec": {
   "display_name": "Python 3 (ipykernel)",
   "language": "python",
   "name": "python3"
  },
  "language_info": {
   "codemirror_mode": {
    "name": "ipython",
    "version": 3
   },
   "file_extension": ".py",
   "mimetype": "text/x-python",
   "name": "python",
   "nbconvert_exporter": "python",
   "pygments_lexer": "ipython3",
   "version": "3.9.12"
  }
 },
 "nbformat": 4,
 "nbformat_minor": 5
}
