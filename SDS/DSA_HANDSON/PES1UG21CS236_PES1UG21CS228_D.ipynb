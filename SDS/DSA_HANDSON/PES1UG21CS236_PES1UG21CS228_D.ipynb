{
 "cells": [
  {
   "cell_type": "code",
   "execution_count": 213,
   "id": "e17ecf1a",
   "metadata": {},
   "outputs": [],
   "source": [
    "import pandas as pd\n",
    "import numpy as np\n",
    "import matplotlib.pyplot as plt\n",
    "import statistics as st\n",
    "df=pd.read_csv(\"SDS_Hackathon_Dataset_30_11_22.csv\")"
   ]
  },
  {
   "cell_type": "code",
   "execution_count": 214,
   "id": "ad66dffa",
   "metadata": {},
   "outputs": [
    {
     "data": {
      "text/html": [
       "<div>\n",
       "<style scoped>\n",
       "    .dataframe tbody tr th:only-of-type {\n",
       "        vertical-align: middle;\n",
       "    }\n",
       "\n",
       "    .dataframe tbody tr th {\n",
       "        vertical-align: top;\n",
       "    }\n",
       "\n",
       "    .dataframe thead th {\n",
       "        text-align: right;\n",
       "    }\n",
       "</style>\n",
       "<table border=\"1\" class=\"dataframe\">\n",
       "  <thead>\n",
       "    <tr style=\"text-align: right;\">\n",
       "      <th></th>\n",
       "      <th>Unnamed: 0</th>\n",
       "      <th>Active</th>\n",
       "      <th>Rest</th>\n",
       "      <th>Smoke</th>\n",
       "      <th>Gender</th>\n",
       "      <th>Exercise</th>\n",
       "      <th>Hgt</th>\n",
       "      <th>Wgt</th>\n",
       "    </tr>\n",
       "  </thead>\n",
       "  <tbody>\n",
       "    <tr>\n",
       "      <th>count</th>\n",
       "      <td>232.000000</td>\n",
       "      <td>230.000000</td>\n",
       "      <td>229.000000</td>\n",
       "      <td>228.000000</td>\n",
       "      <td>226.000000</td>\n",
       "      <td>231.000000</td>\n",
       "      <td>223.000000</td>\n",
       "      <td>217.000000</td>\n",
       "    </tr>\n",
       "    <tr>\n",
       "      <th>mean</th>\n",
       "      <td>115.500000</td>\n",
       "      <td>91.313043</td>\n",
       "      <td>68.358079</td>\n",
       "      <td>0.114035</td>\n",
       "      <td>0.469027</td>\n",
       "      <td>2.259740</td>\n",
       "      <td>68.327354</td>\n",
       "      <td>158.138249</td>\n",
       "    </tr>\n",
       "    <tr>\n",
       "      <th>std</th>\n",
       "      <td>67.116814</td>\n",
       "      <td>18.880625</td>\n",
       "      <td>10.007155</td>\n",
       "      <td>0.318553</td>\n",
       "      <td>0.500147</td>\n",
       "      <td>0.735484</td>\n",
       "      <td>3.736298</td>\n",
       "      <td>31.381306</td>\n",
       "    </tr>\n",
       "    <tr>\n",
       "      <th>min</th>\n",
       "      <td>0.000000</td>\n",
       "      <td>51.000000</td>\n",
       "      <td>43.000000</td>\n",
       "      <td>0.000000</td>\n",
       "      <td>0.000000</td>\n",
       "      <td>1.000000</td>\n",
       "      <td>60.000000</td>\n",
       "      <td>102.000000</td>\n",
       "    </tr>\n",
       "    <tr>\n",
       "      <th>25%</th>\n",
       "      <td>57.750000</td>\n",
       "      <td>79.000000</td>\n",
       "      <td>62.000000</td>\n",
       "      <td>0.000000</td>\n",
       "      <td>0.000000</td>\n",
       "      <td>2.000000</td>\n",
       "      <td>65.000000</td>\n",
       "      <td>135.000000</td>\n",
       "    </tr>\n",
       "    <tr>\n",
       "      <th>50%</th>\n",
       "      <td>115.500000</td>\n",
       "      <td>88.500000</td>\n",
       "      <td>68.000000</td>\n",
       "      <td>0.000000</td>\n",
       "      <td>0.000000</td>\n",
       "      <td>2.000000</td>\n",
       "      <td>69.000000</td>\n",
       "      <td>151.000000</td>\n",
       "    </tr>\n",
       "    <tr>\n",
       "      <th>75%</th>\n",
       "      <td>173.250000</td>\n",
       "      <td>102.000000</td>\n",
       "      <td>74.000000</td>\n",
       "      <td>0.000000</td>\n",
       "      <td>1.000000</td>\n",
       "      <td>3.000000</td>\n",
       "      <td>71.000000</td>\n",
       "      <td>175.000000</td>\n",
       "    </tr>\n",
       "    <tr>\n",
       "      <th>max</th>\n",
       "      <td>231.000000</td>\n",
       "      <td>154.000000</td>\n",
       "      <td>106.000000</td>\n",
       "      <td>1.000000</td>\n",
       "      <td>1.000000</td>\n",
       "      <td>3.000000</td>\n",
       "      <td>78.000000</td>\n",
       "      <td>260.000000</td>\n",
       "    </tr>\n",
       "  </tbody>\n",
       "</table>\n",
       "</div>"
      ],
      "text/plain": [
       "       Unnamed: 0      Active        Rest       Smoke      Gender    Exercise  \\\n",
       "count  232.000000  230.000000  229.000000  228.000000  226.000000  231.000000   \n",
       "mean   115.500000   91.313043   68.358079    0.114035    0.469027    2.259740   \n",
       "std     67.116814   18.880625   10.007155    0.318553    0.500147    0.735484   \n",
       "min      0.000000   51.000000   43.000000    0.000000    0.000000    1.000000   \n",
       "25%     57.750000   79.000000   62.000000    0.000000    0.000000    2.000000   \n",
       "50%    115.500000   88.500000   68.000000    0.000000    0.000000    2.000000   \n",
       "75%    173.250000  102.000000   74.000000    0.000000    1.000000    3.000000   \n",
       "max    231.000000  154.000000  106.000000    1.000000    1.000000    3.000000   \n",
       "\n",
       "              Hgt         Wgt  \n",
       "count  223.000000  217.000000  \n",
       "mean    68.327354  158.138249  \n",
       "std      3.736298   31.381306  \n",
       "min     60.000000  102.000000  \n",
       "25%     65.000000  135.000000  \n",
       "50%     69.000000  151.000000  \n",
       "75%     71.000000  175.000000  \n",
       "max     78.000000  260.000000  "
      ]
     },
     "execution_count": 214,
     "metadata": {},
     "output_type": "execute_result"
    }
   ],
   "source": [
    "#Question1\n",
    "df.describe() #gives the detailed description of the dataset "
   ]
  },
  {
   "cell_type": "code",
   "execution_count": 215,
   "id": "7cdefa0a",
   "metadata": {},
   "outputs": [
    {
     "data": {
      "text/plain": [
       "(232, 8)"
      ]
     },
     "execution_count": 215,
     "metadata": {},
     "output_type": "execute_result"
    }
   ],
   "source": [
    "df.shape #gives the row and columns of the dataset"
   ]
  },
  {
   "cell_type": "code",
   "execution_count": 216,
   "id": "fb485f59",
   "metadata": {},
   "outputs": [
    {
     "data": {
      "text/html": [
       "<div>\n",
       "<style scoped>\n",
       "    .dataframe tbody tr th:only-of-type {\n",
       "        vertical-align: middle;\n",
       "    }\n",
       "\n",
       "    .dataframe tbody tr th {\n",
       "        vertical-align: top;\n",
       "    }\n",
       "\n",
       "    .dataframe thead th {\n",
       "        text-align: right;\n",
       "    }\n",
       "</style>\n",
       "<table border=\"1\" class=\"dataframe\">\n",
       "  <thead>\n",
       "    <tr style=\"text-align: right;\">\n",
       "      <th></th>\n",
       "      <th>Unnamed: 0</th>\n",
       "      <th>Active</th>\n",
       "      <th>Rest</th>\n",
       "      <th>Smoke</th>\n",
       "      <th>Gender</th>\n",
       "      <th>Exercise</th>\n",
       "      <th>Hgt</th>\n",
       "      <th>Wgt</th>\n",
       "    </tr>\n",
       "  </thead>\n",
       "  <tbody>\n",
       "    <tr>\n",
       "      <th>0</th>\n",
       "      <td>0</td>\n",
       "      <td>97.0</td>\n",
       "      <td>78.0</td>\n",
       "      <td>0.0</td>\n",
       "      <td>1.0</td>\n",
       "      <td>1.0</td>\n",
       "      <td>63.0</td>\n",
       "      <td>119.0</td>\n",
       "    </tr>\n",
       "    <tr>\n",
       "      <th>1</th>\n",
       "      <td>1</td>\n",
       "      <td>82.0</td>\n",
       "      <td>68.0</td>\n",
       "      <td>1.0</td>\n",
       "      <td>0.0</td>\n",
       "      <td>3.0</td>\n",
       "      <td>70.0</td>\n",
       "      <td>225.0</td>\n",
       "    </tr>\n",
       "    <tr>\n",
       "      <th>2</th>\n",
       "      <td>2</td>\n",
       "      <td>88.0</td>\n",
       "      <td>62.0</td>\n",
       "      <td>0.0</td>\n",
       "      <td>0.0</td>\n",
       "      <td>3.0</td>\n",
       "      <td>72.0</td>\n",
       "      <td>175.0</td>\n",
       "    </tr>\n",
       "    <tr>\n",
       "      <th>3</th>\n",
       "      <td>3</td>\n",
       "      <td>106.0</td>\n",
       "      <td>74.0</td>\n",
       "      <td>0.0</td>\n",
       "      <td>0.0</td>\n",
       "      <td>3.0</td>\n",
       "      <td>72.0</td>\n",
       "      <td>170.0</td>\n",
       "    </tr>\n",
       "    <tr>\n",
       "      <th>4</th>\n",
       "      <td>4</td>\n",
       "      <td>78.0</td>\n",
       "      <td>63.0</td>\n",
       "      <td>0.0</td>\n",
       "      <td>1.0</td>\n",
       "      <td>3.0</td>\n",
       "      <td>67.0</td>\n",
       "      <td>125.0</td>\n",
       "    </tr>\n",
       "    <tr>\n",
       "      <th>...</th>\n",
       "      <td>...</td>\n",
       "      <td>...</td>\n",
       "      <td>...</td>\n",
       "      <td>...</td>\n",
       "      <td>...</td>\n",
       "      <td>...</td>\n",
       "      <td>...</td>\n",
       "      <td>...</td>\n",
       "    </tr>\n",
       "    <tr>\n",
       "      <th>227</th>\n",
       "      <td>227</td>\n",
       "      <td>105.0</td>\n",
       "      <td>85.0</td>\n",
       "      <td>0.0</td>\n",
       "      <td>1.0</td>\n",
       "      <td>2.0</td>\n",
       "      <td>64.0</td>\n",
       "      <td>150.0</td>\n",
       "    </tr>\n",
       "    <tr>\n",
       "      <th>228</th>\n",
       "      <td>228</td>\n",
       "      <td>82.0</td>\n",
       "      <td>74.0</td>\n",
       "      <td>0.0</td>\n",
       "      <td>1.0</td>\n",
       "      <td>3.0</td>\n",
       "      <td>66.0</td>\n",
       "      <td>124.0</td>\n",
       "    </tr>\n",
       "    <tr>\n",
       "      <th>229</th>\n",
       "      <td>229</td>\n",
       "      <td>102.0</td>\n",
       "      <td>81.0</td>\n",
       "      <td>0.0</td>\n",
       "      <td>0.0</td>\n",
       "      <td>2.0</td>\n",
       "      <td>69.0</td>\n",
       "      <td>172.0</td>\n",
       "    </tr>\n",
       "    <tr>\n",
       "      <th>230</th>\n",
       "      <td>230</td>\n",
       "      <td>87.0</td>\n",
       "      <td>67.0</td>\n",
       "      <td>0.0</td>\n",
       "      <td>0.0</td>\n",
       "      <td>2.0</td>\n",
       "      <td>68.0</td>\n",
       "      <td>170.0</td>\n",
       "    </tr>\n",
       "    <tr>\n",
       "      <th>231</th>\n",
       "      <td>231</td>\n",
       "      <td>81.0</td>\n",
       "      <td>62.0</td>\n",
       "      <td>0.0</td>\n",
       "      <td>0.0</td>\n",
       "      <td>3.0</td>\n",
       "      <td>68.0</td>\n",
       "      <td>151.0</td>\n",
       "    </tr>\n",
       "  </tbody>\n",
       "</table>\n",
       "<p>232 rows × 8 columns</p>\n",
       "</div>"
      ],
      "text/plain": [
       "     Unnamed: 0  Active  Rest  Smoke  Gender  Exercise   Hgt    Wgt\n",
       "0             0    97.0  78.0    0.0     1.0       1.0  63.0  119.0\n",
       "1             1    82.0  68.0    1.0     0.0       3.0  70.0  225.0\n",
       "2             2    88.0  62.0    0.0     0.0       3.0  72.0  175.0\n",
       "3             3   106.0  74.0    0.0     0.0       3.0  72.0  170.0\n",
       "4             4    78.0  63.0    0.0     1.0       3.0  67.0  125.0\n",
       "..          ...     ...   ...    ...     ...       ...   ...    ...\n",
       "227         227   105.0  85.0    0.0     1.0       2.0  64.0  150.0\n",
       "228         228    82.0  74.0    0.0     1.0       3.0  66.0  124.0\n",
       "229         229   102.0  81.0    0.0     0.0       2.0  69.0  172.0\n",
       "230         230    87.0  67.0    0.0     0.0       2.0  68.0  170.0\n",
       "231         231    81.0  62.0    0.0     0.0       3.0  68.0  151.0\n",
       "\n",
       "[232 rows x 8 columns]"
      ]
     },
     "execution_count": 216,
     "metadata": {},
     "output_type": "execute_result"
    }
   ],
   "source": [
    "cols=df.Active\n",
    "num_cols=df._get_numeric_data()\n",
    "num_cols"
   ]
  },
  {
   "cell_type": "code",
   "execution_count": null,
   "id": "5f3e0604",
   "metadata": {},
   "outputs": [],
   "source": []
  },
  {
   "cell_type": "code",
   "execution_count": 217,
   "id": "e9e31e99",
   "metadata": {},
   "outputs": [
    {
     "name": "stdout",
     "output_type": "stream",
     "text": [
      "The number of students who have been surveyed is  232\n"
     ]
    }
   ],
   "source": [
    "print(\"The number of students who have been surveyed is \",df.shape[0])"
   ]
  },
  {
   "cell_type": "code",
   "execution_count": 218,
   "id": "230009ec",
   "metadata": {},
   "outputs": [
    {
     "data": {
      "text/plain": [
       "Unnamed: 0    False\n",
       "Active         True\n",
       "Rest           True\n",
       "Smoke          True\n",
       "Gender         True\n",
       "Exercise       True\n",
       "Hgt            True\n",
       "Wgt            True\n",
       "dtype: bool"
      ]
     },
     "execution_count": 218,
     "metadata": {},
     "output_type": "execute_result"
    }
   ],
   "source": [
    "df.isnull().any()"
   ]
  },
  {
   "cell_type": "code",
   "execution_count": 219,
   "id": "dcb9200d",
   "metadata": {},
   "outputs": [
    {
     "data": {
      "text/plain": [
       "Unnamed: 0     0\n",
       "Active         2\n",
       "Rest           3\n",
       "Smoke          4\n",
       "Gender         6\n",
       "Exercise       1\n",
       "Hgt            9\n",
       "Wgt           15\n",
       "dtype: int64"
      ]
     },
     "execution_count": 219,
     "metadata": {},
     "output_type": "execute_result"
    }
   ],
   "source": [
    "#Question3\n",
    "df.isnull().sum()"
   ]
  },
  {
   "cell_type": "code",
   "execution_count": 220,
   "id": "32105428",
   "metadata": {},
   "outputs": [
    {
     "name": "stdout",
     "output_type": "stream",
     "text": [
      "The total missing values are  40\n"
     ]
    }
   ],
   "source": [
    "print(\"The total missing values are \",df.isnull().sum().sum())"
   ]
  },
  {
   "cell_type": "code",
   "execution_count": 221,
   "id": "11b9fbb0",
   "metadata": {},
   "outputs": [],
   "source": [
    "df['Active'].interpolate(inplace=True)"
   ]
  },
  {
   "cell_type": "code",
   "execution_count": 222,
   "id": "795584bb",
   "metadata": {},
   "outputs": [],
   "source": [
    "df['Rest'].interpolate(inplace=True)"
   ]
  },
  {
   "cell_type": "code",
   "execution_count": 223,
   "id": "8a69c2d7",
   "metadata": {},
   "outputs": [],
   "source": [
    "df['Smoke'].fillna(method='bfill',inplace=True)\n",
    "df['Gender'].fillna(method='bfill',inplace=True)\n",
    "df['Exercise'].fillna(method='bfill',inplace=True)"
   ]
  },
  {
   "cell_type": "code",
   "execution_count": 224,
   "id": "475a500d",
   "metadata": {},
   "outputs": [],
   "source": [
    "df['Hgt'].interpolate(inplace=True)\n",
    "df['Wgt'].interpolate(inplace=True)"
   ]
  },
  {
   "cell_type": "code",
   "execution_count": 225,
   "id": "1b06ba1d",
   "metadata": {},
   "outputs": [
    {
     "name": "stdout",
     "output_type": "stream",
     "text": [
      "The NULL values after data cleaning is  0\n"
     ]
    }
   ],
   "source": [
    "print(\"The NULL values after data cleaning is \",df.isnull().sum().sum())"
   ]
  },
  {
   "cell_type": "code",
   "execution_count": 226,
   "id": "5478bf9b",
   "metadata": {},
   "outputs": [
    {
     "name": "stdout",
     "output_type": "stream",
     "text": [
      "Unnamed: 0    0\n",
      "Active        0\n",
      "Rest          0\n",
      "Smoke         0\n",
      "Gender        0\n",
      "Exercise      0\n",
      "Hgt           0\n",
      "Wgt           0\n",
      "dtype: int64\n"
     ]
    }
   ],
   "source": [
    "print(df.isnull().sum()) #The data is cleaned as seen in the table"
   ]
  },
  {
   "cell_type": "code",
   "execution_count": 227,
   "id": "cf15e5c3",
   "metadata": {},
   "outputs": [
    {
     "name": "stdout",
     "output_type": "stream",
     "text": [
      "[0.0, 1.0]\n",
      "Since there are only 2 categories , Smoke is a categorical variable\n",
      "[0.0, 1.0]\n",
      "Since there are only 2 categories , Gender is a categorical variable\n",
      "[1.0, 2.0, 3.0]\n",
      "Since there are only 3 categories , Exercise is a categorical variable\n",
      "There are no ordinal,continuous,and nominal data.All of the variables are either categorical or discrete\n",
      "Discrete-Active,Rest,height,weight\n"
     ]
    }
   ],
   "source": [
    "print(list(set(df['Smoke'])))\n",
    "print(\"Since there are only 2 categories , Smoke is a categorical variable\")\n",
    "print(list(set(df['Gender'])))\n",
    "print(\"Since there are only 2 categories , Gender is a categorical variable\")\n",
    "print(list(set(df['Exercise'])))\n",
    "print(\"Since there are only 3 categories , Exercise is a categorical variable\")\n",
    "print(\"There are no ordinal,continuous,and nominal data.All of the variables are either categorical or discrete\")\n",
    "print(\"Discrete-Active,Rest,height,weight\")"
   ]
  },
  {
   "cell_type": "code",
   "execution_count": 228,
   "id": "fd895d6d",
   "metadata": {},
   "outputs": [
    {
     "name": "stdout",
     "output_type": "stream",
     "text": [
      "The mean active heartbeat is  91.34267241379311\n",
      "The standard deviation of Active heartrate is  18.804232779999598\n",
      "The range of active heartbeat is  51.0  to  154.0\n",
      "The mean rest heartbeat is  68.34267241379311\n",
      "The range of Rest heartbeat is  43.0  to  106.0\n",
      "The standard deviation of rest heartbeat is  9.939365210577535\n",
      "The standard deviation of Exercise is  0.7369429212655003\n",
      "Mode of smokers is  0.0\n",
      "Majority of the people are non smokers\n"
     ]
    }
   ],
   "source": [
    "#statistics of the dataset(Question2)\n",
    "print(\"The mean active heartbeat is \",st.mean(df['Active']))\n",
    "print(\"The standard deviation of Active heartrate is \",st.pstdev(df['Active']))\n",
    "print(\"The range of active heartbeat is \",df['Active'].min(),\" to \",df['Active'].max())\n",
    "print(\"The mean rest heartbeat is \",st.mean(df['Rest']))\n",
    "print(\"The range of Rest heartbeat is \",df['Rest'].min(),\" to \",df['Rest'].max())\n",
    "print(\"The standard deviation of rest heartbeat is \",st.pstdev(df['Rest']))\n",
    "print(\"The standard deviation of Exercise is \",st.pstdev(df['Exercise']))\n",
    "print(\"Mode of smokers is \",st.mode(df['Smoke']))\n",
    "if(st.mode(df['Smoke'])==0.0):\n",
    "    print(\"Majority of the people are non smokers\")\n",
    "else:\n",
    "    print(\"Majority of the people are smokers\")"
   ]
  },
  {
   "cell_type": "code",
   "execution_count": 229,
   "id": "565e9ba3",
   "metadata": {},
   "outputs": [
    {
     "name": "stdout",
     "output_type": "stream",
     "text": [
      "Mode of gender is  0.0\n",
      "Majority of the people are male\n"
     ]
    }
   ],
   "source": [
    "print(\"Mode of gender is \",st.mode(df['Gender']))\n",
    "if(st.mode(df['Gender'])==0.0):\n",
    "    print(\"Majority of the people are male\")\n",
    "else:\n",
    "    print(\"Majority of the people are female\")"
   ]
  },
  {
   "cell_type": "code",
   "execution_count": 230,
   "id": "88b780b1",
   "metadata": {},
   "outputs": [
    {
     "name": "stdout",
     "output_type": "stream",
     "text": [
      "The median of exercise is  2.0\n"
     ]
    }
   ],
   "source": [
    "print(\"The median of exercise is \",st.median(df['Exercise']))"
   ]
  },
  {
   "cell_type": "code",
   "execution_count": 231,
   "id": "c34b6a7a",
   "metadata": {},
   "outputs": [
    {
     "name": "stdout",
     "output_type": "stream",
     "text": [
      "The mean height is  68.33189655172414\n",
      "The standard deviation of Height is  3.678012467819595\n",
      "The range of Height is  60.0  to  78.0\n",
      "The mean weight is  158.26077586206895\n",
      "The standard deviation of Weight is  30.677548025328132\n",
      "The range of Weight is  102.0  to  260.0\n"
     ]
    }
   ],
   "source": [
    "print(\"The mean height is \",st.mean(df['Hgt']))\n",
    "print(\"The standard deviation of Height is \",st.pstdev(df['Hgt']))\n",
    "print(\"The range of Height is \",df['Hgt'].min(),\" to \",df['Hgt'].max())\n",
    "print(\"The mean weight is \",st.mean(df['Wgt']))\n",
    "print(\"The standard deviation of Weight is \",st.pstdev(df['Wgt']))\n",
    "print(\"The range of Weight is \",df['Wgt'].min(),\" to \",df['Wgt'].max())"
   ]
  },
  {
   "cell_type": "code",
   "execution_count": 232,
   "id": "4c51a67e",
   "metadata": {},
   "outputs": [
    {
     "name": "stdout",
     "output_type": "stream",
     "text": [
      "The number of classes in the Smoke categorical variable is  2  which is  [0.0, 1.0]  corresponding to smoke and non-smokers\n"
     ]
    },
    {
     "data": {
      "image/png": "[encoded data removed]",
      "text/plain": [
       "<Figure size 432x288 with 1 Axes>"
      ]
     },
     "metadata": {
      "needs_background": "light"
     },
     "output_type": "display_data"
    }
   ],
   "source": [
    "#Question 4\n",
    "print(\"The number of classes in the Smoke categorical variable is \",len(list(set(df['Smoke']))),\" which is \",list(set(df['Smoke'])),\" corresponding to smoke and non-smokers\")\n",
    "x=[1,2]\n",
    "y=df['Smoke'].value_counts()\n",
    "labels=['Non-Smoker','Smoker']\n",
    "plt.bar(x,y,align='center')\n",
    "plt.xticks(x,labels)\n",
    "plt.show()"
   ]
  },
  {
   "cell_type": "code",
   "execution_count": 233,
   "id": "c127619a",
   "metadata": {},
   "outputs": [],
   "source": [
    "#from the bar graph it is very clear that the number of non-smokers are significantly greater than the number of smokers"
   ]
  },
  {
   "cell_type": "code",
   "execution_count": 234,
   "id": "316fd02c",
   "metadata": {},
   "outputs": [
    {
     "name": "stdout",
     "output_type": "stream",
     "text": [
      "The number of classes in the Gender categorical variable is  2  which is  [0.0, 1.0]  corresponding to male and female\n"
     ]
    },
    {
     "data": {
      "image/png": "[encoded data removed]",
      "text/plain": [
       "<Figure size 432x288 with 1 Axes>"
      ]
     },
     "metadata": {
      "needs_background": "light"
     },
     "output_type": "display_data"
    }
   ],
   "source": [
    "print(\"The number of classes in the Gender categorical variable is \",len(list(set(df['Gender']))),\" which is \",list(set(df['Gender'])),\" corresponding to male and female\")\n",
    "x=[1,2]\n",
    "y=df['Gender'].value_counts()\n",
    "labels=['Male','Female']\n",
    "plt.bar(x,y,align='center')\n",
    "plt.xticks(x,labels)\n",
    "plt.show()"
   ]
  },
  {
   "cell_type": "code",
   "execution_count": 235,
   "id": "2ae9c4f4",
   "metadata": {},
   "outputs": [],
   "source": [
    "#from the bar graph we can see that the number of males are greater than the number of females(not significantly greater)"
   ]
  },
  {
   "cell_type": "code",
   "execution_count": 236,
   "id": "30396c2b",
   "metadata": {},
   "outputs": [
    {
     "data": {
      "image/png": "[encoded data removed]",
      "text/plain": [
       "<Figure size 432x288 with 1 Axes>"
      ]
     },
     "metadata": {
      "needs_background": "light"
     },
     "output_type": "display_data"
    },
    {
     "name": "stdout",
     "output_type": "stream",
     "text": [
      "The plot is right skewed and unimodal\n",
      "Since the plot is right skewed , it means that the active heartbeat is having outliers towards the higher values\n",
      "The plot has only 1 peak so it is unimodal\n"
     ]
    }
   ],
   "source": [
    "#question5\n",
    "x=df['Active']\n",
    "plt.hist(x)\n",
    "plt.title(\"Active heartbeat\")\n",
    "plt.show()\n",
    "print(\"The plot is right skewed and unimodal\")\n",
    "print(\"Since the plot is right skewed , it means that the active heartbeat is having outliers towards the higher values\")\n",
    "print(\"The plot has only 1 peak so it is unimodal\")"
   ]
  },
  {
   "cell_type": "code",
   "execution_count": 237,
   "id": "08590212",
   "metadata": {},
   "outputs": [
    {
     "data": {
      "image/png": "[encoded data removed]",
      "text/plain": [
       "<Figure size 432x288 with 1 Axes>"
      ]
     },
     "metadata": {
      "needs_background": "light"
     },
     "output_type": "display_data"
    },
    {
     "name": "stdout",
     "output_type": "stream",
     "text": [
      "The plot is right skewed and unimodal\n",
      "Since the plot is right skewed , it means that the rest heartbeat is having outliers towards the higher values\n",
      "The plot has only 1 peak so it is unimodal\n"
     ]
    }
   ],
   "source": [
    "x=df['Rest']\n",
    "plt.hist(x)\n",
    "plt.title(\"Rest heartbeat\")\n",
    "plt.show()\n",
    "print(\"The plot is right skewed and unimodal\")\n",
    "print(\"Since the plot is right skewed , it means that the rest heartbeat is having outliers towards the higher values\")\n",
    "print(\"The plot has only 1 peak so it is unimodal\")"
   ]
  },
  {
   "cell_type": "code",
   "execution_count": null,
   "id": "5fdadabe",
   "metadata": {},
   "outputs": [],
   "source": []
  },
  {
   "cell_type": "code",
   "execution_count": 238,
   "id": "601e3fcf",
   "metadata": {},
   "outputs": [
    {
     "data": {
      "image/png": "[encoded data removed]",
      "text/plain": [
       "<Figure size 432x288 with 1 Axes>"
      ]
     },
     "metadata": {
      "needs_background": "light"
     },
     "output_type": "display_data"
    },
    {
     "name": "stdout",
     "output_type": "stream",
     "text": [
      "The plot is skewed left and bimodal\n",
      "Since the plot is left skewed , it means that the height is having outliers towards the lower values\n",
      "The plot has only 2 peaks so it is bimodal\n"
     ]
    }
   ],
   "source": [
    "x=df['Hgt']\n",
    "plt.hist(x)\n",
    "plt.title(\"Height\")\n",
    "plt.show()\n",
    "print(\"The plot is skewed left and bimodal\")\n",
    "print(\"Since the plot is left skewed , it means that the height is having outliers towards the lower values\")\n",
    "print(\"The plot has only 2 peaks so it is bimodal\")"
   ]
  },
  {
   "cell_type": "code",
   "execution_count": 239,
   "id": "ed61630a",
   "metadata": {},
   "outputs": [
    {
     "data": {
      "image/png": "[encoded data removed]",
      "text/plain": [
       "<Figure size 432x288 with 1 Axes>"
      ]
     },
     "metadata": {
      "needs_background": "light"
     },
     "output_type": "display_data"
    },
    {
     "name": "stdout",
     "output_type": "stream",
     "text": [
      "The plot is right skewed and bimodal\n",
      "Since the plot is right skewed , it means that the weight is having outliers towards the higher values\n",
      "The plot has only 2 peak so it is unimodal\n"
     ]
    }
   ],
   "source": [
    "x=df['Wgt']\n",
    "plt.hist(x)\n",
    "plt.title(\"Weight\")\n",
    "plt.show()\n",
    "print(\"The plot is right skewed and bimodal\")\n",
    "print(\"Since the plot is right skewed , it means that the weight is having outliers towards the higher values\")\n",
    "print(\"The plot has only 2 peak so it is unimodal\")"
   ]
  },
  {
   "cell_type": "code",
   "execution_count": 240,
   "id": "8a75055d",
   "metadata": {},
   "outputs": [
    {
     "data": {
      "image/png": "[encoded data removed]",
      "text/plain": [
       "<Figure size 432x288 with 1 Axes>"
      ]
     },
     "metadata": {
      "needs_background": "light"
     },
     "output_type": "display_data"
    },
    {
     "name": "stdout",
     "output_type": "stream",
     "text": [
      "The rest pulse rate has lower mean when compared to active pulse rate.The rest pulse rate has a lower outlier whereas active pulse rate does not\n"
     ]
    }
   ],
   "source": [
    "x=df['Active']\n",
    "y=df['Rest']\n",
    "values=[x,y]\n",
    "plt.boxplot(values)\n",
    "plt.show()\n",
    "print(\"The rest pulse rate has lower mean when compared to active pulse rate.The rest pulse rate has a lower outlier whereas active pulse rate does not\")"
   ]
  },
  {
   "cell_type": "code",
   "execution_count": 241,
   "id": "ccd97fb3",
   "metadata": {},
   "outputs": [
    {
     "name": "stdout",
     "output_type": "stream",
     "text": [
      "The interquartile range of Active heartbeat is  23.0\n"
     ]
    }
   ],
   "source": [
    "q1=df['Active'].quantile(0.75)\n",
    "q2=df['Active'].quantile(0.25)\n",
    "print(\"The interquartile range of Active heartbeat is \",q1-q2)"
   ]
  },
  {
   "cell_type": "code",
   "execution_count": 242,
   "id": "583fed96",
   "metadata": {},
   "outputs": [
    {
     "name": "stdout",
     "output_type": "stream",
     "text": [
      "The interquartile range of Rest heartbeat is  12.0\n"
     ]
    }
   ],
   "source": [
    "q3=df['Rest'].quantile(0.75)\n",
    "q4=df['Rest'].quantile(0.25)\n",
    "print(\"The interquartile range of Rest heartbeat is \",q3-q4)"
   ]
  },
  {
   "cell_type": "code",
   "execution_count": 243,
   "id": "b152e35f",
   "metadata": {},
   "outputs": [
    {
     "name": "stdout",
     "output_type": "stream",
     "text": [
      "The IQR of Active pulse rate is more than the IQR of Rest pulse rate\n",
      "This implies that there is less dispersion for Rest pulse rate when compared to Active pulse rate\n"
     ]
    }
   ],
   "source": [
    "print(\"The IQR of Active pulse rate is more than the IQR of Rest pulse rate\")\n",
    "print(\"This implies that there is less dispersion for Rest pulse rate when compared to Active pulse rate\")"
   ]
  },
  {
   "cell_type": "code",
   "execution_count": 262,
   "id": "ae3028f9",
   "metadata": {},
   "outputs": [
    {
     "data": {
      "image/png": "[encoded data removed]",
      "text/plain": [
       "<Figure size 432x288 with 1 Axes>"
      ]
     },
     "metadata": {
      "needs_background": "light"
     },
     "output_type": "display_data"
    },
    {
     "name": "stdout",
     "output_type": "stream",
     "text": [
      "The active pulse rate of male (mean) is lower than rest pulse rate(Active pulse rate for male has outliers)\n"
     ]
    }
   ],
   "source": [
    "x=df[df['Gender']==0]['Active']\n",
    "y=df[df['Gender']==1]['Active']\n",
    "values=[x,y]\n",
    "plt.boxplot(values)\n",
    "plt.ylabel('Active')\n",
    "plt.show()\n",
    "print(\"The active pulse rate of male (mean) is lower than rest pulse rate(Active pulse rate for male has outliers)\")"
   ]
  },
  {
   "cell_type": "code",
   "execution_count": 245,
   "id": "4fe21b5a",
   "metadata": {},
   "outputs": [
    {
     "data": {
      "image/png": "[encoded data removed]",
      "text/plain": [
       "<Figure size 432x288 with 1 Axes>"
      ]
     },
     "metadata": {
      "needs_background": "light"
     },
     "output_type": "display_data"
    },
    {
     "name": "stdout",
     "output_type": "stream",
     "text": [
      "The rest pulse rate of males(mean) is lower than that of the females\n"
     ]
    }
   ],
   "source": [
    "x=df[df['Gender']==0]['Rest']\n",
    "y=df[df['Gender']==1]['Rest']\n",
    "values=[x,y]\n",
    "plt.boxplot(values)\n",
    "plt.ylabel('Rest')\n",
    "plt.show()\n",
    "print(\"The rest pulse rate of males(mean) is lower than that of the females\")"
   ]
  },
  {
   "cell_type": "code",
   "execution_count": 263,
   "id": "3748f637",
   "metadata": {},
   "outputs": [
    {
     "data": {
      "image/png": "[encoded data removed]",
      "text/plain": [
       "<Figure size 432x288 with 1 Axes>"
      ]
     },
     "metadata": {
      "needs_background": "light"
     },
     "output_type": "display_data"
    },
    {
     "name": "stdout",
     "output_type": "stream",
     "text": [
      "The rest pulse rate of smoker(mean) is slightly lower than that of the non smokers(Rest pulse rate of non smokers has outliers)\n"
     ]
    }
   ],
   "source": [
    "x=df[df['Smoke']==0]['Rest']\n",
    "y=df[df['Smoke']==1]['Rest']\n",
    "values=[x,y]\n",
    "plt.boxplot(values)\n",
    "plt.ylabel('Rest')\n",
    "\n",
    "plt.show()\n",
    "print(\"The rest pulse rate of smoker(mean) is slightly lower than that of the non smokers(Rest pulse rate of non smokers has outliers)\")"
   ]
  },
  {
   "cell_type": "code",
   "execution_count": 247,
   "id": "9b0c9233",
   "metadata": {},
   "outputs": [
    {
     "data": {
      "image/png": "[encoded data removed]",
      "text/plain": [
       "<Figure size 432x288 with 1 Axes>"
      ]
     },
     "metadata": {
      "needs_background": "light"
     },
     "output_type": "display_data"
    },
    {
     "name": "stdout",
     "output_type": "stream",
     "text": [
      "The active pulse rate of smoker(mean) is slightly lower than that of the non smokers\n"
     ]
    }
   ],
   "source": [
    "x=df[df['Smoke']==0]['Active']\n",
    "y=df[df['Smoke']==1]['Active']\n",
    "values=[x,y]\n",
    "plt.boxplot(values)\n",
    "plt.ylabel('Active')\n",
    "plt.show()\n",
    "print(\"The active pulse rate of smoker(mean) is slightly lower than that of the non smokers\")"
   ]
  },
  {
   "cell_type": "code",
   "execution_count": 248,
   "id": "f4e8aed0",
   "metadata": {},
   "outputs": [
    {
     "data": {
      "image/png": "[encoded data removed]",
      "text/plain": [
       "<Figure size 432x288 with 1 Axes>"
      ]
     },
     "metadata": {
      "needs_background": "light"
     },
     "output_type": "display_data"
    },
    {
     "name": "stdout",
     "output_type": "stream",
     "text": [
      "The plot of rest vs active looks linear by intuition\n"
     ]
    }
   ],
   "source": [
    "x=df['Active']\n",
    "y=df['Rest']\n",
    "plt.scatter(x,y,color='r',marker='s')\n",
    "plt.xlabel('Active')\n",
    "plt.ylabel('Rest')\n",
    "plt.show()\n",
    "print(\"The plot of rest vs active looks linear by intuition\")"
   ]
  },
  {
   "cell_type": "code",
   "execution_count": 264,
   "id": "90571ead",
   "metadata": {},
   "outputs": [
    {
     "data": {
      "image/png": "[encoded data removed]",
      "text/plain": [
       "<Figure size 432x288 with 1 Axes>"
      ]
     },
     "metadata": {
      "needs_background": "light"
     },
     "output_type": "display_data"
    },
    {
     "name": "stdout",
     "output_type": "stream",
     "text": [
      "Non-linear\n"
     ]
    }
   ],
   "source": [
    "x=df['Rest']\n",
    "y=df['Hgt']\n",
    "plt.scatter(x,y,color='r',marker='s')\n",
    "plt.xlabel('Rest')\n",
    "plt.ylabel('Height')\n",
    "plt.show()\n",
    "print(\"Non-linear\")"
   ]
  },
  {
   "cell_type": "code",
   "execution_count": 265,
   "id": "7625794f",
   "metadata": {},
   "outputs": [
    {
     "data": {
      "image/png": "[encoded data removed]",
      "text/plain": [
       "<Figure size 432x288 with 1 Axes>"
      ]
     },
     "metadata": {
      "needs_background": "light"
     },
     "output_type": "display_data"
    },
    {
     "name": "stdout",
     "output_type": "stream",
     "text": [
      "Non-linear\n"
     ]
    }
   ],
   "source": [
    "x=df['Active']\n",
    "y=df['Hgt']\n",
    "plt.scatter(x,y,color='r',marker='s')\n",
    "plt.xlabel('Active')\n",
    "plt.ylabel('Height')\n",
    "plt.show()\n",
    "print(\"Non-linear\")"
   ]
  },
  {
   "cell_type": "code",
   "execution_count": 266,
   "id": "918c06c5",
   "metadata": {},
   "outputs": [
    {
     "data": {
      "image/png": "[encoded data removed]",
      "text/plain": [
       "<Figure size 432x288 with 1 Axes>"
      ]
     },
     "metadata": {
      "needs_background": "light"
     },
     "output_type": "display_data"
    },
    {
     "name": "stdout",
     "output_type": "stream",
     "text": [
      "The plot of height vs weight looks linear by intuition\n"
     ]
    }
   ],
   "source": [
    "x=df['Hgt']\n",
    "y=df['Wgt']\n",
    "plt.scatter(x,y,color='r',marker='s')\n",
    "plt.xlabel('Height')\n",
    "plt.ylabel('Weight')\n",
    "plt.show()\n",
    "print(\"The plot of height vs weight looks linear by intuition\")"
   ]
  },
  {
   "cell_type": "code",
   "execution_count": 252,
   "id": "e7a06859",
   "metadata": {},
   "outputs": [
    {
     "data": {
      "image/png": "[encoded data removed]",
      "text/plain": [
       "<Figure size 432x288 with 1 Axes>"
      ]
     },
     "metadata": {
      "needs_background": "light"
     },
     "output_type": "display_data"
    }
   ],
   "source": [
    "x=df['Active']\n",
    "y=df['Wgt']\n",
    "plt.scatter(x,y,color='r',marker='s')\n",
    "plt.xlabel('Active')\n",
    "plt.ylabel('Weight')\n",
    "plt.show()\n",
    "#nonlinear"
   ]
  },
  {
   "cell_type": "code",
   "execution_count": 253,
   "id": "cc288280",
   "metadata": {},
   "outputs": [
    {
     "data": {
      "image/png": "[encoded data removed]",
      "text/plain": [
       "<Figure size 432x288 with 1 Axes>"
      ]
     },
     "metadata": {
      "needs_background": "light"
     },
     "output_type": "display_data"
    }
   ],
   "source": [
    "x=df['Rest']\n",
    "y=df['Wgt']\n",
    "plt.scatter(x,y,color='r',marker='s')\n",
    "plt.xlabel('Rest')\n",
    "plt.ylabel('Weight')\n",
    "plt.show()\n",
    "#nonlinear"
   ]
  },
  {
   "cell_type": "raw",
   "id": "3dd0960e",
   "metadata": {},
   "source": []
  },
  {
   "cell_type": "code",
   "execution_count": 267,
   "id": "769170ba",
   "metadata": {},
   "outputs": [
    {
     "name": "stdout",
     "output_type": "stream",
     "text": [
      "The linearity for height vs weight and rest vs active is consistent as evident from the correlation matrix\n"
     ]
    }
   ],
   "source": [
    "df.corr()\n",
    "print(\"The linearity for height vs weight and rest vs active is consistent as evident from the correlation matrix\")"
   ]
  },
  {
   "cell_type": "code",
   "execution_count": 268,
   "id": "ec11d536",
   "metadata": {},
   "outputs": [
    {
     "data": {
      "text/plain": [
       "<matplotlib.collections.PathCollection at 0x1c7920c3640>"
      ]
     },
     "execution_count": 268,
     "metadata": {},
     "output_type": "execute_result"
    },
    {
     "data": {
      "image/png": "[encoded data removed]",
      "text/plain": [
       "<Figure size 432x288 with 1 Axes>"
      ]
     },
     "metadata": {
      "needs_background": "light"
     },
     "output_type": "display_data"
    }
   ],
   "source": [
    "x=[0,1]\n",
    "y=[len(df[df['Gender']==0]),len(df[df['Gender']==1])]\n",
    "a=[0,1]\n",
    "b=[len(df[df['Smoke']==0]),len(df[df['Smoke']==1])]\n",
    "c=[1,2,3]\n",
    "d=[len(df[df['Exercise']==1]),len(df[df['Exercise']==2]),len(df[df['Exercise']==3])]\n",
    "plt.scatter(x,y)\n",
    "plt.scatter(a,b,color=\"black\")\n",
    "plt.scatter(c,d,color=\"red\")"
   ]
  },
  {
   "cell_type": "code",
   "execution_count": null,
   "id": "f9244ca8",
   "metadata": {},
   "outputs": [],
   "source": []
  },
  {
   "cell_type": "code",
   "execution_count": null,
   "id": "e50f8f99",
   "metadata": {},
   "outputs": [],
   "source": []
  },
  {
   "cell_type": "code",
   "execution_count": 269,
   "id": "c5b26644",
   "metadata": {},
   "outputs": [
    {
     "name": "stdout",
     "output_type": "stream",
     "text": [
      "y hat= 39.10683182893153 + 0.32006771656975147 x\n"
     ]
    },
    {
     "data": {
      "image/png": "[encoded data removed]",
      "text/plain": [
       "<Figure size 432x288 with 1 Axes>"
      ]
     },
     "metadata": {
      "needs_background": "light"
     },
     "output_type": "display_data"
    }
   ],
   "source": [
    "from sklearn.metrics import r2_score\n",
    "x=df['Active']\n",
    "y=df['Rest']\n",
    "plt.plot(x,y,'ro')\n",
    "b1,b0=np.polyfit(x,y,deg=1) #polyfit can be used for multiple regression as well\n",
    "print('y hat=',b0,'+',b1,'x')\n",
    "yp=b0+b1*x\n",
    "plt.plot(x,yp)\n",
    "plt.show()"
   ]
  },
  {
   "cell_type": "code",
   "execution_count": 270,
   "id": "eb4ce4ef",
   "metadata": {},
   "outputs": [
    {
     "name": "stdout",
     "output_type": "stream",
     "text": [
      "R2= 0.3666719459631447\n"
     ]
    }
   ],
   "source": [
    "#coefficient of determination\n",
    "print(\"R2=\",r2_score(y,yp))"
   ]
  },
  {
   "cell_type": "code",
   "execution_count": 271,
   "id": "c7f2cdba",
   "metadata": {},
   "outputs": [
    {
     "name": "stdout",
     "output_type": "stream",
     "text": [
      "Fitted model equation is :y hat= 39.10683182893153 + 0.32006771656975147 x\n",
      "Slope= 0.32006771656975147\n",
      "Intercept= 39.10683182893153\n"
     ]
    }
   ],
   "source": [
    "print('Fitted model equation is :y hat=',b0,'+',b1,'x')\n",
    "print(\"Slope=\",b1)\n",
    "print(\"Intercept=\",b0)"
   ]
  },
  {
   "cell_type": "code",
   "execution_count": 272,
   "id": "bb96551f",
   "metadata": {},
   "outputs": [
    {
     "data": {
      "text/plain": [
       "<matplotlib.collections.LineCollection at 0x1c791eaa910>"
      ]
     },
     "execution_count": 272,
     "metadata": {},
     "output_type": "execute_result"
    },
    {
     "data": {
      "image/png": "[encoded data removed]",
      "text/plain": [
       "<Figure size 432x288 with 1 Axes>"
      ]
     },
     "metadata": {
      "needs_background": "light"
     },
     "output_type": "display_data"
    }
   ],
   "source": [
    "residuals=y-yp\n",
    "plt.plot(yp,residuals,'ro')#ro->color and the line\n",
    "plt.hlines(0,40,100)"
   ]
  },
  {
   "cell_type": "code",
   "execution_count": null,
   "id": "cd18d12f",
   "metadata": {},
   "outputs": [],
   "source": []
  },
  {
   "cell_type": "code",
   "execution_count": null,
   "id": "794ff162",
   "metadata": {},
   "outputs": [],
   "source": []
  },
  {
   "cell_type": "code",
   "execution_count": null,
   "id": "5d70d15c",
   "metadata": {},
   "outputs": [],
   "source": []
  }
 ],
 "metadata": {
  "kernelspec": {
   "display_name": "Python 3.10.1 64-bit",
   "language": "python",
   "name": "python3"
  },
  "language_info": {
   "codemirror_mode": {
    "name": "ipython",
    "version": 3
   },
   "file_extension": ".py",
   "mimetype": "text/x-python",
   "name": "python",
   "nbconvert_exporter": "python",
   "pygments_lexer": "ipython3",
   "version": "3.10.1"
  },
  "vscode": {
   "interpreter": {
    "hash": "1d06fc9ed4b774328ae1669b976a7de461f6c6282277a8a3bb34b5a87421f7ca"
   }
  }
 },
 "nbformat": 4,
 "nbformat_minor": 5
}
