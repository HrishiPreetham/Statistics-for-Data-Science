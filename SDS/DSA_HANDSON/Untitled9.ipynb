{
 "cells": [
  {
   "cell_type": "code",
   "execution_count": 5,
   "id": "cc84b163",
   "metadata": {},
   "outputs": [
    {
     "name": "stdout",
     "output_type": "stream",
     "text": [
      "17\n",
      "<class 'pandas.core.frame.DataFrame'>\n",
      "RangeIndex: 1061 entries, 0 to 1060\n",
      "Data columns (total 15 columns):\n",
      " #   Column  Non-Null Count  Dtype  \n",
      "---  ------  --------------  -----  \n",
      " 0   ID      1061 non-null   int64  \n",
      " 1   Name    1061 non-null   object \n",
      " 2   Sex     1061 non-null   object \n",
      " 3   Age     1054 non-null   float64\n",
      " 4   Height  1056 non-null   float64\n",
      " 5   Weight  1056 non-null   float64\n",
      " 6   Team    1061 non-null   object \n",
      " 7   NOC     1061 non-null   object \n",
      " 8   Games   1061 non-null   object \n",
      " 9   Year    1061 non-null   int64  \n",
      " 10  Season  1061 non-null   object \n",
      " 11  City    1061 non-null   object \n",
      " 12  Sport   1061 non-null   object \n",
      " 13  Event   1061 non-null   object \n",
      " 14  Medal   1061 non-null   object \n",
      "dtypes: float64(3), int64(2), object(10)\n",
      "memory usage: 124.5+ KB\n",
      "ID        0\n",
      "Name      0\n",
      "Sex       0\n",
      "Age       7\n",
      "Height    5\n",
      "Weight    5\n",
      "Team      0\n",
      "NOC       0\n",
      "Games     0\n",
      "Year      0\n",
      "Season    0\n",
      "City      0\n",
      "Sport     0\n",
      "Event     0\n",
      "Medal     0\n",
      "dtype: int64\n"
     ]
    },
    {
     "data": {
      "image/png": "[encoded data removed]",
      "text/plain": [
       "<Figure size 432x288 with 1 Axes>"
      ]
     },
     "metadata": {
      "needs_background": "light"
     },
     "output_type": "display_data"
    },
    {
     "data": {
      "image/png": "[encoded data removed]",
      "text/plain": [
       "<Figure size 432x288 with 1 Axes>"
      ]
     },
     "metadata": {
      "needs_background": "light"
     },
     "output_type": "display_data"
    },
    {
     "name": "stdout",
     "output_type": "stream",
     "text": [
      "Mean age of olympic medallists  nan\n",
      "Bulgaria          225\n",
      "Spain             173\n",
      "Sweden            140\n",
      "Czechoslovakia     80\n",
      "Japan              71\n",
      "Great Britain      37\n",
      "Canada             28\n",
      "Tanzania           27\n",
      "Cote d'Ivoire      24\n",
      "Belgium            22\n",
      "Name: Team, dtype: int64\n",
      "Frederick Carlton \"Carl\" Lewis    7\n",
      "Valeriy Pylypovych Borzov         5\n",
      "Kipchoge Hezekieh \"Kip\" Keino     4\n",
      "Sebastian Newbold \"Seb\" Coe       4\n",
      "Lasse Artturi Virn                4\n",
      "                                 ..\n",
      "Vyacheslav Ivanovich Ivanenko     1\n",
      "Edgar Itt                         1\n",
      "Gary Ronald Honey                 1\n",
      "Willi Holdorf                     1\n",
      "Krzysztof Zwoliski                1\n",
      "Name: Name, Length: 494, dtype: int64\n",
      "The most successful male athete is  Frederick Carlton \"Carl\" Lewis\n",
      "Pietro Paolo Mennea                2\n",
      "John Gates Powell                  2\n",
      "Edwin Anthony Roberts              2\n",
      "Jri Tamm                           2\n",
      "Dwight Edwin Stones                2\n",
      "                                  ..\n",
      "Bernhard Erich \"Bernd\" Herrmann    1\n",
      "Klaus-Peter Hildenbrand            1\n",
      "Thomas Lionel \"Tom\" Hill           1\n",
      "Sterling Dale Hinds                1\n",
      "Mauro Carlo Zuliani                1\n",
      "Name: Name, Length: 198, dtype: int64\n",
      "The male athlete with most gold medals is  Pietro Paolo Mennea\n",
      "Valeriy Pylypovych Borzov                    5\n",
      "Viktor Saneyev                               4\n",
      "Volodymyr Stepanovych Holubnychiy            3\n",
      "Tatyana Vasilyevna Kazankina (-Kovalenko)    3\n",
      "Jnis Lsis                                    3\n",
      "                                            ..\n",
      "Eduard Viktorovich Gushchin                  1\n",
      "Saida Gunba (-Kikidze)                       1\n",
      "Tatyana Gennadyevna Goyshchik (-Nasonova)    1\n",
      "Yelena Yegorovna Gorchakova                  1\n",
      "Galina Ivanovna Zybina (-Fyodorova)          1\n",
      "Name: Name, Length: 132, dtype: int64\n",
      "The athlete from the Spain who has won the most medals is  Valeriy Pylypovych Borzov\n"
     ]
    },
    {
     "name": "stderr",
     "output_type": "stream",
     "text": [
      "C:\\Users\\info\\AppData\\Local\\Temp\\ipykernel_34372\\2877170.py:28: UserWarning: Boolean Series key will be reindexed to match DataFrame index.\n",
      "  print(df[df['Medal']=='Gold'][df['Sex']=='M']['Name'].value_counts())\n",
      "C:\\Users\\info\\AppData\\Local\\Temp\\ipykernel_34372\\2877170.py:29: UserWarning: Boolean Series key will be reindexed to match DataFrame index.\n",
      "  print(\"The male athlete with most gold medals is \",df[df['Medal']=='Gold'][df['Sex']=='M']['Name'].value_counts().index[0])\n"
     ]
    }
   ],
   "source": [
    "import pandas as pd\n",
    "import numpy as np\n",
    "\n",
    "import matplotlib.pyplot as plt\n",
    "from matplotlib.pyplot import boxplot,show\n",
    "df=pd.read_csv(\"olympics.csv\")\n",
    "print(df.isnull().sum().sum())\n",
    "df.info()\n",
    "missing=df.isnull() \n",
    "no_mis=missing.sum() \n",
    "print(no_mis)\n",
    "\n",
    "values=df.Age\n",
    "plt.boxplot(values,vert=False)\n",
    "plt.show() #the boxplot shows that there are athletes over 40 years as outliers(Here they are not outliers\n",
    "#as there can be atlheles over the age of 40)\n",
    "values=df.Weight\n",
    "plt.boxplot(values,vert=False)\n",
    "plt.show()\n",
    "import statistics as st\n",
    "\n",
    "print('Mean age of olympic medallists ',st.mean(df['Age']))\n",
    "#top 10 countries\n",
    "top10=df.Team.value_counts().head(10)\n",
    "print(top10)\n",
    "print(df[df['Sex']=='M']['Name'].value_counts())\n",
    "print(\"The most successful male athete is \",df[df['Sex']=='M']['Name'].value_counts().index[0])\n",
    "print(df[df['Medal']=='Gold'][df['Sex']=='M']['Name'].value_counts())\n",
    "print(\"The male athlete with most gold medals is \",df[df['Medal']=='Gold'][df['Sex']=='M']['Name'].value_counts().index[0])\n",
    "print(df[df['Team']=='Spain']['Name'].value_counts())\n",
    "print(\"The athlete from the Spain who has won the most medals is \",df[df['Team']=='Spain']['Name'].value_counts().index[0])"
   ]
  },
  {
   "cell_type": "code",
   "execution_count": null,
   "id": "840a8b64",
   "metadata": {},
   "outputs": [],
   "source": []
  }
 ],
 "metadata": {
  "kernelspec": {
   "display_name": "Python 3 (ipykernel)",
   "language": "python",
   "name": "python3"
  },
  "language_info": {
   "codemirror_mode": {
    "name": "ipython",
    "version": 3
   },
   "file_extension": ".py",
   "mimetype": "text/x-python",
   "name": "python",
   "nbconvert_exporter": "python",
   "pygments_lexer": "ipython3",
   "version": "3.9.12"
  }
 },
 "nbformat": 4,
 "nbformat_minor": 5
}
