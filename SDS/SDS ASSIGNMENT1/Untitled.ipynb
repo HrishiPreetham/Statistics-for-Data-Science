{
 "cells": [
  {
   "cell_type": "code",
   "execution_count": 3,
   "id": "8e9274ec",
   "metadata": {},
   "outputs": [
    {
     "ename": "NameError",
     "evalue": "name 'np' is not defined",
     "output_type": "error",
     "traceback": [
      "\u001b[1;31m---------------------------------------------------------------------------\u001b[0m",
      "\u001b[1;31mNameError\u001b[0m                                 Traceback (most recent call last)",
      "Input \u001b[1;32mIn [3]\u001b[0m, in \u001b[0;36m<cell line: 9>\u001b[1;34m()\u001b[0m\n\u001b[0;32m      7\u001b[0m         U[i]\u001b[38;5;241m=\u001b[39mx\u001b[38;5;241m/\u001b[39mmod\n\u001b[0;32m      8\u001b[0m     \u001b[38;5;28;01mreturn\u001b[39;00m U\n\u001b[1;32m----> 9\u001b[0m \u001b[43mpseudo_uniform_badmethod\u001b[49m\u001b[43m(\u001b[49m\u001b[38;5;241;43m5\u001b[39;49m\u001b[43m,\u001b[49m\u001b[38;5;241;43m11\u001b[39;49m\u001b[43m,\u001b[49m\u001b[38;5;241;43m1\u001b[39;49m\u001b[43m,\u001b[49m\u001b[38;5;241;43m1\u001b[39;49m\u001b[43m)\u001b[49m\n",
      "Input \u001b[1;32mIn [3]\u001b[0m, in \u001b[0;36mpseudo_uniform_badmethod\u001b[1;34m(mult, mod, seed, size)\u001b[0m\n\u001b[0;32m      1\u001b[0m \u001b[38;5;28;01mdef\u001b[39;00m \u001b[38;5;21mpseudo_uniform_badmethod\u001b[39m(mult\u001b[38;5;241m=\u001b[39m\u001b[38;5;241m5\u001b[39m,mod\u001b[38;5;241m=\u001b[39m\u001b[38;5;241m11\u001b[39m,seed\u001b[38;5;241m=\u001b[39m\u001b[38;5;241m1\u001b[39m,size\u001b[38;5;241m=\u001b[39m\u001b[38;5;241m1\u001b[39m):\n\u001b[1;32m----> 2\u001b[0m     U\u001b[38;5;241m=\u001b[39m\u001b[43mnp\u001b[49m\u001b[38;5;241m.\u001b[39mzeros(size)\n\u001b[0;32m      3\u001b[0m     x\u001b[38;5;241m=\u001b[39m(seed\u001b[38;5;241m*\u001b[39mmult\u001b[38;5;241m+\u001b[39m\u001b[38;5;241m1\u001b[39m)\u001b[38;5;241m%\u001b[39mmod\n\u001b[0;32m      4\u001b[0m     U[\u001b[38;5;241m0\u001b[39m]\u001b[38;5;241m=\u001b[39mx\u001b[38;5;241m/\u001b[39mmod\n",
      "\u001b[1;31mNameError\u001b[0m: name 'np' is not defined"
     ]
    }
   ],
   "source": [
    "#def pseudo_uniform_badmethod(mult=5,mod=11,seed=1,size=1):\n",
    "  #  U=np.zeros(size)\n",
    "  #  x=(seed*mult+1)%mod\n",
    "   # U[0]=x/mod\n",
    "   # for i in range(1,size):\n",
    "   #     x=(x*mult+1)%mod\n",
    "   #     U[i]=x/mod\n",
    "   # return U\n",
    "# This is a bad method of creating a random number generator\n",
    "def pseudo_uniform_badmethod(mult=16807,mod=(2**31)-1,seed=123456789,size=1):\n",
    "  #  U=np.zeros(size)\n",
    "  #  x=(seed*mult+1)%mod\n",
    "   # U[0]=x/mod\n",
    "   # for i in range(1,size):\n",
    "   #     x=(x*mult+1)%mod\n",
    "   #     U[i]=x/mod\n",
    "   # return U"
   ]
  },
  {
   "cell_type": "code",
   "execution_count": null,
   "id": "95cb86bf",
   "metadata": {},
   "outputs": [],
   "source": [
    "def pseudo_uniform(low=0,high=1,seed=123456789,size=1):\n",
    "    return low+(high-low)*pseudo_uniform"
   ]
  },
  {
   "cell_type": "code",
   "execution_count": null,
   "id": "368bc615",
   "metadata": {},
   "outputs": [],
   "source": []
  }
 ],
 "metadata": {
  "kernelspec": {
   "display_name": "Python 3 (ipykernel)",
   "language": "python",
   "name": "python3"
  },
  "language_info": {
   "codemirror_mode": {
    "name": "ipython",
    "version": 3
   },
   "file_extension": ".py",
   "mimetype": "text/x-python",
   "name": "python",
   "nbconvert_exporter": "python",
   "pygments_lexer": "ipython3",
   "version": "3.9.12"
  }
 },
 "nbformat": 4,
 "nbformat_minor": 5
}
