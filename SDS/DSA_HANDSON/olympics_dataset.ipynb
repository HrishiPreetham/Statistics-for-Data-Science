{
 "cells": [
  {
   "cell_type": "code",
   "execution_count": 1,
   "id": "ed8d50f6",
   "metadata": {},
   "outputs": [],
   "source": [
    "import pandas as pd\n",
    "import numpy as np\n",
    "df=pd.read_csv(\"olympics.csv\")"
   ]
  },
  {
   "cell_type": "code",
   "execution_count": 2,
   "id": "c37dd2df",
   "metadata": {},
   "outputs": [
    {
     "name": "stdout",
     "output_type": "stream",
     "text": [
      "          ID                                        Name Sex   Age  Height  \\\n",
      "0         86                     Jos Manuel Abascal Gmez   M  27.0   185.0   \n",
      "1       1569        Kriss Kezie Uche Chukwu Duru Akabusi   M  26.0   188.0   \n",
      "2       1673                               John Akii-Bua   M  23.0   191.0   \n",
      "3       1732  Liudmyla Vasylivna Aksenova (Shapovalova-)   F  30.0   168.0   \n",
      "4       1734              Aleksandr Timofeyevich Aksinin   M  22.0   176.0   \n",
      "...      ...                                         ...  ..   ...     ...   \n",
      "1056  135313                              Gyula Zsivtzky   M  28.0   193.0   \n",
      "1057  135313                              Gyula Zsivtzky   M  32.0   193.0   \n",
      "1058  135409                         Mauro Carlo Zuliani   M  21.0   178.0   \n",
      "1059  135544                          Krzysztof Zwoliski   M  23.0   178.0   \n",
      "1060  135553         Galina Ivanovna Zybina (-Fyodorova)   F  34.0   171.0   \n",
      "\n",
      "      Weight            Team  NOC        Games  Year  Season         City  \\\n",
      "0       62.0        Djibouti  DJI  1984 Summer  1984  Summer  Los Angeles   \n",
      "1       76.0  Czechoslovakia  TCH  1984 Summer  1984  Summer  Los Angeles   \n",
      "2       72.0         Germany  GER  1972 Summer  1972  Summer       Munich   \n",
      "3       53.0           Spain  ESP  1976 Summer  1976  Summer     Montreal   \n",
      "4       62.0           Spain  ESP  1976 Summer  1976  Summer     Montreal   \n",
      "...      ...             ...  ...          ...   ...     ...          ...   \n",
      "1056    97.0          Uganda  UGA  1964 Summer  1964  Summer        Tokyo   \n",
      "1057    97.0          Uganda  UGA  1968 Summer  1968  Summer  Mexico City   \n",
      "1058    57.0   Cote d'Ivoire  CIV  1980 Summer  1980  Summer       Moskva   \n",
      "1059    65.0   Great Britain  GBR  1980 Summer  1980  Summer       Moskva   \n",
      "1060    75.0           Spain  ESP  1964 Summer  1964  Summer        Tokyo   \n",
      "\n",
      "          Sport                                   Event   Medal  \n",
      "0     Athletics            Athletics Men's 1,500 metres    Gold  \n",
      "1     Athletics    Athletics Men's 4 x 400 metres Relay  Bronze  \n",
      "2     Athletics      Athletics Men's 400 metres Hurdles  Silver  \n",
      "3     Athletics  Athletics Women's 4 x 400 metres Relay    Gold  \n",
      "4     Athletics    Athletics Men's 4 x 100 metres Relay    Gold  \n",
      "...         ...                                     ...     ...  \n",
      "1056  Athletics            Athletics Men's Hammer Throw  Bronze  \n",
      "1057  Athletics            Athletics Men's Hammer Throw  Silver  \n",
      "1058  Athletics    Athletics Men's 4 x 400 metres Relay    Gold  \n",
      "1059  Athletics    Athletics Men's 4 x 100 metres Relay  Bronze  \n",
      "1060  Athletics              Athletics Women's Shot Put    Gold  \n",
      "\n",
      "[1061 rows x 15 columns]\n"
     ]
    }
   ],
   "source": [
    "print(df)"
   ]
  },
  {
   "cell_type": "code",
   "execution_count": 3,
   "id": "96795cd7",
   "metadata": {},
   "outputs": [
    {
     "data": {
      "text/html": [
       "<div>\n",
       "<style scoped>\n",
       "    .dataframe tbody tr th:only-of-type {\n",
       "        vertical-align: middle;\n",
       "    }\n",
       "\n",
       "    .dataframe tbody tr th {\n",
       "        vertical-align: top;\n",
       "    }\n",
       "\n",
       "    .dataframe thead th {\n",
       "        text-align: right;\n",
       "    }\n",
       "</style>\n",
       "<table border=\"1\" class=\"dataframe\">\n",
       "  <thead>\n",
       "    <tr style=\"text-align: right;\">\n",
       "      <th></th>\n",
       "      <th>ID</th>\n",
       "      <th>Age</th>\n",
       "      <th>Height</th>\n",
       "      <th>Weight</th>\n",
       "      <th>Year</th>\n",
       "    </tr>\n",
       "  </thead>\n",
       "  <tbody>\n",
       "    <tr>\n",
       "      <th>count</th>\n",
       "      <td>1061.000000</td>\n",
       "      <td>1054.000000</td>\n",
       "      <td>1056.000000</td>\n",
       "      <td>1056.000000</td>\n",
       "      <td>1061.000000</td>\n",
       "    </tr>\n",
       "    <tr>\n",
       "      <th>mean</th>\n",
       "      <td>67486.128181</td>\n",
       "      <td>25.977230</td>\n",
       "      <td>180.486742</td>\n",
       "      <td>68.243371</td>\n",
       "      <td>1976.746466</td>\n",
       "    </tr>\n",
       "    <tr>\n",
       "      <th>std</th>\n",
       "      <td>39223.525351</td>\n",
       "      <td>4.175797</td>\n",
       "      <td>9.467721</td>\n",
       "      <td>17.869523</td>\n",
       "      <td>8.014185</td>\n",
       "    </tr>\n",
       "    <tr>\n",
       "      <th>min</th>\n",
       "      <td>86.000000</td>\n",
       "      <td>16.000000</td>\n",
       "      <td>154.000000</td>\n",
       "      <td>42.000000</td>\n",
       "      <td>1964.000000</td>\n",
       "    </tr>\n",
       "    <tr>\n",
       "      <th>25%</th>\n",
       "      <td>32098.000000</td>\n",
       "      <td>23.000000</td>\n",
       "      <td>173.000000</td>\n",
       "      <td>55.000000</td>\n",
       "      <td>1968.000000</td>\n",
       "    </tr>\n",
       "    <tr>\n",
       "      <th>50%</th>\n",
       "      <td>66536.000000</td>\n",
       "      <td>25.000000</td>\n",
       "      <td>181.000000</td>\n",
       "      <td>65.000000</td>\n",
       "      <td>1976.000000</td>\n",
       "    </tr>\n",
       "    <tr>\n",
       "      <th>75%</th>\n",
       "      <td>101290.000000</td>\n",
       "      <td>28.000000</td>\n",
       "      <td>188.000000</td>\n",
       "      <td>75.000000</td>\n",
       "      <td>1984.000000</td>\n",
       "    </tr>\n",
       "    <tr>\n",
       "      <th>max</th>\n",
       "      <td>135553.000000</td>\n",
       "      <td>42.000000</td>\n",
       "      <td>203.000000</td>\n",
       "      <td>140.000000</td>\n",
       "      <td>1988.000000</td>\n",
       "    </tr>\n",
       "  </tbody>\n",
       "</table>\n",
       "</div>"
      ],
      "text/plain": [
       "                  ID          Age       Height       Weight         Year\n",
       "count    1061.000000  1054.000000  1056.000000  1056.000000  1061.000000\n",
       "mean    67486.128181    25.977230   180.486742    68.243371  1976.746466\n",
       "std     39223.525351     4.175797     9.467721    17.869523     8.014185\n",
       "min        86.000000    16.000000   154.000000    42.000000  1964.000000\n",
       "25%     32098.000000    23.000000   173.000000    55.000000  1968.000000\n",
       "50%     66536.000000    25.000000   181.000000    65.000000  1976.000000\n",
       "75%    101290.000000    28.000000   188.000000    75.000000  1984.000000\n",
       "max    135553.000000    42.000000   203.000000   140.000000  1988.000000"
      ]
     },
     "execution_count": 3,
     "metadata": {},
     "output_type": "execute_result"
    }
   ],
   "source": [
    "df.describe()"
   ]
  },
  {
   "cell_type": "code",
   "execution_count": 4,
   "id": "b2d796c2",
   "metadata": {},
   "outputs": [
    {
     "data": {
      "text/plain": [
       "ID        False\n",
       "Name      False\n",
       "Sex       False\n",
       "Age        True\n",
       "Height     True\n",
       "Weight     True\n",
       "Team      False\n",
       "NOC       False\n",
       "Games     False\n",
       "Year      False\n",
       "Season    False\n",
       "City      False\n",
       "Sport     False\n",
       "Event     False\n",
       "Medal     False\n",
       "dtype: bool"
      ]
     },
     "execution_count": 4,
     "metadata": {},
     "output_type": "execute_result"
    }
   ],
   "source": [
    "df.isnull().any()"
   ]
  },
  {
   "cell_type": "code",
   "execution_count": 5,
   "id": "d5e4abf2",
   "metadata": {},
   "outputs": [
    {
     "name": "stdout",
     "output_type": "stream",
     "text": [
      "ID        0\n",
      "Name      0\n",
      "Sex       0\n",
      "Age       7\n",
      "Height    5\n",
      "Weight    5\n",
      "Team      0\n",
      "NOC       0\n",
      "Games     0\n",
      "Year      0\n",
      "Season    0\n",
      "City      0\n",
      "Sport     0\n",
      "Event     0\n",
      "Medal     0\n",
      "dtype: int64\n"
     ]
    }
   ],
   "source": [
    "print(df.isnull().sum())"
   ]
  },
  {
   "cell_type": "code",
   "execution_count": 6,
   "id": "d973c689",
   "metadata": {},
   "outputs": [
    {
     "name": "stdout",
     "output_type": "stream",
     "text": [
      "17\n"
     ]
    }
   ],
   "source": [
    "print(df.isnull().sum().sum())"
   ]
  },
  {
   "cell_type": "code",
   "execution_count": 7,
   "id": "327b6c6c",
   "metadata": {},
   "outputs": [],
   "source": [
    "df.interpolate(inplace=True)"
   ]
  },
  {
   "cell_type": "code",
   "execution_count": 8,
   "id": "df99061d",
   "metadata": {},
   "outputs": [
    {
     "name": "stdout",
     "output_type": "stream",
     "text": [
      "0\n",
      "16.0\n",
      "154.0\n"
     ]
    }
   ],
   "source": [
    "print(df.isnull().sum().sum())\n",
    "print(min(df.Age))\n",
    "print(min(df.Height))"
   ]
  },
  {
   "cell_type": "code",
   "execution_count": 9,
   "id": "2aa6fbca",
   "metadata": {},
   "outputs": [
    {
     "data": {
      "text/html": [
       "<div>\n",
       "<style scoped>\n",
       "    .dataframe tbody tr th:only-of-type {\n",
       "        vertical-align: middle;\n",
       "    }\n",
       "\n",
       "    .dataframe tbody tr th {\n",
       "        vertical-align: top;\n",
       "    }\n",
       "\n",
       "    .dataframe thead th {\n",
       "        text-align: right;\n",
       "    }\n",
       "</style>\n",
       "<table border=\"1\" class=\"dataframe\">\n",
       "  <thead>\n",
       "    <tr style=\"text-align: right;\">\n",
       "      <th></th>\n",
       "      <th>ID</th>\n",
       "      <th>Name</th>\n",
       "      <th>Sex</th>\n",
       "      <th>Age</th>\n",
       "      <th>Height</th>\n",
       "      <th>Weight</th>\n",
       "      <th>Team</th>\n",
       "      <th>NOC</th>\n",
       "      <th>Games</th>\n",
       "      <th>Year</th>\n",
       "      <th>Season</th>\n",
       "      <th>City</th>\n",
       "      <th>Event</th>\n",
       "      <th>Medal</th>\n",
       "    </tr>\n",
       "  </thead>\n",
       "  <tbody>\n",
       "    <tr>\n",
       "      <th>0</th>\n",
       "      <td>86</td>\n",
       "      <td>Jos Manuel Abascal Gmez</td>\n",
       "      <td>M</td>\n",
       "      <td>27.0</td>\n",
       "      <td>185.0</td>\n",
       "      <td>62.0</td>\n",
       "      <td>Djibouti</td>\n",
       "      <td>DJI</td>\n",
       "      <td>1984 Summer</td>\n",
       "      <td>1984</td>\n",
       "      <td>Summer</td>\n",
       "      <td>Los Angeles</td>\n",
       "      <td>Athletics Men's 1,500 metres</td>\n",
       "      <td>Gold</td>\n",
       "    </tr>\n",
       "    <tr>\n",
       "      <th>1</th>\n",
       "      <td>1569</td>\n",
       "      <td>Kriss Kezie Uche Chukwu Duru Akabusi</td>\n",
       "      <td>M</td>\n",
       "      <td>26.0</td>\n",
       "      <td>188.0</td>\n",
       "      <td>76.0</td>\n",
       "      <td>Czechoslovakia</td>\n",
       "      <td>TCH</td>\n",
       "      <td>1984 Summer</td>\n",
       "      <td>1984</td>\n",
       "      <td>Summer</td>\n",
       "      <td>Los Angeles</td>\n",
       "      <td>Athletics Men's 4 x 400 metres Relay</td>\n",
       "      <td>Bronze</td>\n",
       "    </tr>\n",
       "    <tr>\n",
       "      <th>2</th>\n",
       "      <td>1673</td>\n",
       "      <td>John Akii-Bua</td>\n",
       "      <td>M</td>\n",
       "      <td>23.0</td>\n",
       "      <td>191.0</td>\n",
       "      <td>72.0</td>\n",
       "      <td>Germany</td>\n",
       "      <td>GER</td>\n",
       "      <td>1972 Summer</td>\n",
       "      <td>1972</td>\n",
       "      <td>Summer</td>\n",
       "      <td>Munich</td>\n",
       "      <td>Athletics Men's 400 metres Hurdles</td>\n",
       "      <td>Silver</td>\n",
       "    </tr>\n",
       "    <tr>\n",
       "      <th>3</th>\n",
       "      <td>1732</td>\n",
       "      <td>Liudmyla Vasylivna Aksenova (Shapovalova-)</td>\n",
       "      <td>F</td>\n",
       "      <td>30.0</td>\n",
       "      <td>168.0</td>\n",
       "      <td>53.0</td>\n",
       "      <td>Spain</td>\n",
       "      <td>ESP</td>\n",
       "      <td>1976 Summer</td>\n",
       "      <td>1976</td>\n",
       "      <td>Summer</td>\n",
       "      <td>Montreal</td>\n",
       "      <td>Athletics Women's 4 x 400 metres Relay</td>\n",
       "      <td>Gold</td>\n",
       "    </tr>\n",
       "    <tr>\n",
       "      <th>4</th>\n",
       "      <td>1734</td>\n",
       "      <td>Aleksandr Timofeyevich Aksinin</td>\n",
       "      <td>M</td>\n",
       "      <td>22.0</td>\n",
       "      <td>176.0</td>\n",
       "      <td>62.0</td>\n",
       "      <td>Spain</td>\n",
       "      <td>ESP</td>\n",
       "      <td>1976 Summer</td>\n",
       "      <td>1976</td>\n",
       "      <td>Summer</td>\n",
       "      <td>Montreal</td>\n",
       "      <td>Athletics Men's 4 x 100 metres Relay</td>\n",
       "      <td>Gold</td>\n",
       "    </tr>\n",
       "    <tr>\n",
       "      <th>...</th>\n",
       "      <td>...</td>\n",
       "      <td>...</td>\n",
       "      <td>...</td>\n",
       "      <td>...</td>\n",
       "      <td>...</td>\n",
       "      <td>...</td>\n",
       "      <td>...</td>\n",
       "      <td>...</td>\n",
       "      <td>...</td>\n",
       "      <td>...</td>\n",
       "      <td>...</td>\n",
       "      <td>...</td>\n",
       "      <td>...</td>\n",
       "      <td>...</td>\n",
       "    </tr>\n",
       "    <tr>\n",
       "      <th>1056</th>\n",
       "      <td>135313</td>\n",
       "      <td>Gyula Zsivtzky</td>\n",
       "      <td>M</td>\n",
       "      <td>28.0</td>\n",
       "      <td>193.0</td>\n",
       "      <td>97.0</td>\n",
       "      <td>Uganda</td>\n",
       "      <td>UGA</td>\n",
       "      <td>1964 Summer</td>\n",
       "      <td>1964</td>\n",
       "      <td>Summer</td>\n",
       "      <td>Tokyo</td>\n",
       "      <td>Athletics Men's Hammer Throw</td>\n",
       "      <td>Bronze</td>\n",
       "    </tr>\n",
       "    <tr>\n",
       "      <th>1057</th>\n",
       "      <td>135313</td>\n",
       "      <td>Gyula Zsivtzky</td>\n",
       "      <td>M</td>\n",
       "      <td>32.0</td>\n",
       "      <td>193.0</td>\n",
       "      <td>97.0</td>\n",
       "      <td>Uganda</td>\n",
       "      <td>UGA</td>\n",
       "      <td>1968 Summer</td>\n",
       "      <td>1968</td>\n",
       "      <td>Summer</td>\n",
       "      <td>Mexico City</td>\n",
       "      <td>Athletics Men's Hammer Throw</td>\n",
       "      <td>Silver</td>\n",
       "    </tr>\n",
       "    <tr>\n",
       "      <th>1058</th>\n",
       "      <td>135409</td>\n",
       "      <td>Mauro Carlo Zuliani</td>\n",
       "      <td>M</td>\n",
       "      <td>21.0</td>\n",
       "      <td>178.0</td>\n",
       "      <td>57.0</td>\n",
       "      <td>Cote d'Ivoire</td>\n",
       "      <td>CIV</td>\n",
       "      <td>1980 Summer</td>\n",
       "      <td>1980</td>\n",
       "      <td>Summer</td>\n",
       "      <td>Moskva</td>\n",
       "      <td>Athletics Men's 4 x 400 metres Relay</td>\n",
       "      <td>Gold</td>\n",
       "    </tr>\n",
       "    <tr>\n",
       "      <th>1059</th>\n",
       "      <td>135544</td>\n",
       "      <td>Krzysztof Zwoliski</td>\n",
       "      <td>M</td>\n",
       "      <td>23.0</td>\n",
       "      <td>178.0</td>\n",
       "      <td>65.0</td>\n",
       "      <td>Great Britain</td>\n",
       "      <td>GBR</td>\n",
       "      <td>1980 Summer</td>\n",
       "      <td>1980</td>\n",
       "      <td>Summer</td>\n",
       "      <td>Moskva</td>\n",
       "      <td>Athletics Men's 4 x 100 metres Relay</td>\n",
       "      <td>Bronze</td>\n",
       "    </tr>\n",
       "    <tr>\n",
       "      <th>1060</th>\n",
       "      <td>135553</td>\n",
       "      <td>Galina Ivanovna Zybina (-Fyodorova)</td>\n",
       "      <td>F</td>\n",
       "      <td>34.0</td>\n",
       "      <td>171.0</td>\n",
       "      <td>75.0</td>\n",
       "      <td>Spain</td>\n",
       "      <td>ESP</td>\n",
       "      <td>1964 Summer</td>\n",
       "      <td>1964</td>\n",
       "      <td>Summer</td>\n",
       "      <td>Tokyo</td>\n",
       "      <td>Athletics Women's Shot Put</td>\n",
       "      <td>Gold</td>\n",
       "    </tr>\n",
       "  </tbody>\n",
       "</table>\n",
       "<p>1061 rows × 14 columns</p>\n",
       "</div>"
      ],
      "text/plain": [
       "          ID                                        Name Sex   Age  Height  \\\n",
       "0         86                     Jos Manuel Abascal Gmez   M  27.0   185.0   \n",
       "1       1569        Kriss Kezie Uche Chukwu Duru Akabusi   M  26.0   188.0   \n",
       "2       1673                               John Akii-Bua   M  23.0   191.0   \n",
       "3       1732  Liudmyla Vasylivna Aksenova (Shapovalova-)   F  30.0   168.0   \n",
       "4       1734              Aleksandr Timofeyevich Aksinin   M  22.0   176.0   \n",
       "...      ...                                         ...  ..   ...     ...   \n",
       "1056  135313                              Gyula Zsivtzky   M  28.0   193.0   \n",
       "1057  135313                              Gyula Zsivtzky   M  32.0   193.0   \n",
       "1058  135409                         Mauro Carlo Zuliani   M  21.0   178.0   \n",
       "1059  135544                          Krzysztof Zwoliski   M  23.0   178.0   \n",
       "1060  135553         Galina Ivanovna Zybina (-Fyodorova)   F  34.0   171.0   \n",
       "\n",
       "      Weight            Team  NOC        Games  Year  Season         City  \\\n",
       "0       62.0        Djibouti  DJI  1984 Summer  1984  Summer  Los Angeles   \n",
       "1       76.0  Czechoslovakia  TCH  1984 Summer  1984  Summer  Los Angeles   \n",
       "2       72.0         Germany  GER  1972 Summer  1972  Summer       Munich   \n",
       "3       53.0           Spain  ESP  1976 Summer  1976  Summer     Montreal   \n",
       "4       62.0           Spain  ESP  1976 Summer  1976  Summer     Montreal   \n",
       "...      ...             ...  ...          ...   ...     ...          ...   \n",
       "1056    97.0          Uganda  UGA  1964 Summer  1964  Summer        Tokyo   \n",
       "1057    97.0          Uganda  UGA  1968 Summer  1968  Summer  Mexico City   \n",
       "1058    57.0   Cote d'Ivoire  CIV  1980 Summer  1980  Summer       Moskva   \n",
       "1059    65.0   Great Britain  GBR  1980 Summer  1980  Summer       Moskva   \n",
       "1060    75.0           Spain  ESP  1964 Summer  1964  Summer        Tokyo   \n",
       "\n",
       "                                       Event   Medal  \n",
       "0               Athletics Men's 1,500 metres    Gold  \n",
       "1       Athletics Men's 4 x 400 metres Relay  Bronze  \n",
       "2         Athletics Men's 400 metres Hurdles  Silver  \n",
       "3     Athletics Women's 4 x 400 metres Relay    Gold  \n",
       "4       Athletics Men's 4 x 100 metres Relay    Gold  \n",
       "...                                      ...     ...  \n",
       "1056            Athletics Men's Hammer Throw  Bronze  \n",
       "1057            Athletics Men's Hammer Throw  Silver  \n",
       "1058    Athletics Men's 4 x 400 metres Relay    Gold  \n",
       "1059    Athletics Men's 4 x 100 metres Relay  Bronze  \n",
       "1060              Athletics Women's Shot Put    Gold  \n",
       "\n",
       "[1061 rows x 14 columns]"
      ]
     },
     "execution_count": 9,
     "metadata": {},
     "output_type": "execute_result"
    }
   ],
   "source": [
    "df.drop(['Sport'],inplace=True,axis=1)\n",
    "df"
   ]
  },
  {
   "cell_type": "code",
   "execution_count": 10,
   "id": "1350ff67",
   "metadata": {},
   "outputs": [
    {
     "name": "stdout",
     "output_type": "stream",
     "text": [
      "<class 'pandas.core.frame.DataFrame'>\n",
      "RangeIndex: 1061 entries, 0 to 1060\n",
      "Data columns (total 14 columns):\n",
      " #   Column  Non-Null Count  Dtype  \n",
      "---  ------  --------------  -----  \n",
      " 0   ID      1061 non-null   int64  \n",
      " 1   Name    1061 non-null   object \n",
      " 2   Sex     1061 non-null   object \n",
      " 3   Age     1061 non-null   float64\n",
      " 4   Height  1061 non-null   float64\n",
      " 5   Weight  1061 non-null   float64\n",
      " 6   Team    1061 non-null   object \n",
      " 7   NOC     1061 non-null   object \n",
      " 8   Games   1061 non-null   object \n",
      " 9   Year    1061 non-null   int64  \n",
      " 10  Season  1061 non-null   object \n",
      " 11  City    1061 non-null   object \n",
      " 12  Event   1061 non-null   object \n",
      " 13  Medal   1061 non-null   object \n",
      "dtypes: float64(3), int64(2), object(9)\n",
      "memory usage: 116.2+ KB\n"
     ]
    }
   ],
   "source": [
    "df.info()"
   ]
  },
  {
   "cell_type": "code",
   "execution_count": 11,
   "id": "ca56fc85",
   "metadata": {},
   "outputs": [
    {
     "data": {
      "text/plain": [
       "(1061, 14)"
      ]
     },
     "execution_count": 11,
     "metadata": {},
     "output_type": "execute_result"
    }
   ],
   "source": [
    "df.shape"
   ]
  },
  {
   "cell_type": "code",
   "execution_count": 12,
   "id": "cf443033",
   "metadata": {},
   "outputs": [
    {
     "data": {
      "text/plain": [
       "<bound method DataFrame.count of           ID                                        Name Sex   Age  Height  \\\n",
       "0         86                     Jos Manuel Abascal Gmez   M  27.0   185.0   \n",
       "1       1569        Kriss Kezie Uche Chukwu Duru Akabusi   M  26.0   188.0   \n",
       "2       1673                               John Akii-Bua   M  23.0   191.0   \n",
       "3       1732  Liudmyla Vasylivna Aksenova (Shapovalova-)   F  30.0   168.0   \n",
       "4       1734              Aleksandr Timofeyevich Aksinin   M  22.0   176.0   \n",
       "...      ...                                         ...  ..   ...     ...   \n",
       "1056  135313                              Gyula Zsivtzky   M  28.0   193.0   \n",
       "1057  135313                              Gyula Zsivtzky   M  32.0   193.0   \n",
       "1058  135409                         Mauro Carlo Zuliani   M  21.0   178.0   \n",
       "1059  135544                          Krzysztof Zwoliski   M  23.0   178.0   \n",
       "1060  135553         Galina Ivanovna Zybina (-Fyodorova)   F  34.0   171.0   \n",
       "\n",
       "      Weight            Team  NOC        Games  Year  Season         City  \\\n",
       "0       62.0        Djibouti  DJI  1984 Summer  1984  Summer  Los Angeles   \n",
       "1       76.0  Czechoslovakia  TCH  1984 Summer  1984  Summer  Los Angeles   \n",
       "2       72.0         Germany  GER  1972 Summer  1972  Summer       Munich   \n",
       "3       53.0           Spain  ESP  1976 Summer  1976  Summer     Montreal   \n",
       "4       62.0           Spain  ESP  1976 Summer  1976  Summer     Montreal   \n",
       "...      ...             ...  ...          ...   ...     ...          ...   \n",
       "1056    97.0          Uganda  UGA  1964 Summer  1964  Summer        Tokyo   \n",
       "1057    97.0          Uganda  UGA  1968 Summer  1968  Summer  Mexico City   \n",
       "1058    57.0   Cote d'Ivoire  CIV  1980 Summer  1980  Summer       Moskva   \n",
       "1059    65.0   Great Britain  GBR  1980 Summer  1980  Summer       Moskva   \n",
       "1060    75.0           Spain  ESP  1964 Summer  1964  Summer        Tokyo   \n",
       "\n",
       "                                       Event   Medal  \n",
       "0               Athletics Men's 1,500 metres    Gold  \n",
       "1       Athletics Men's 4 x 400 metres Relay  Bronze  \n",
       "2         Athletics Men's 400 metres Hurdles  Silver  \n",
       "3     Athletics Women's 4 x 400 metres Relay    Gold  \n",
       "4       Athletics Men's 4 x 100 metres Relay    Gold  \n",
       "...                                      ...     ...  \n",
       "1056            Athletics Men's Hammer Throw  Bronze  \n",
       "1057            Athletics Men's Hammer Throw  Silver  \n",
       "1058    Athletics Men's 4 x 400 metres Relay    Gold  \n",
       "1059    Athletics Men's 4 x 100 metres Relay  Bronze  \n",
       "1060              Athletics Women's Shot Put    Gold  \n",
       "\n",
       "[1061 rows x 14 columns]>"
      ]
     },
     "execution_count": 12,
     "metadata": {},
     "output_type": "execute_result"
    }
   ],
   "source": [
    "df.count"
   ]
  },
  {
   "cell_type": "code",
   "execution_count": 13,
   "id": "d7249de1",
   "metadata": {},
   "outputs": [
    {
     "name": "stdout",
     "output_type": "stream",
     "text": [
      "ID        0\n",
      "Name      0\n",
      "Sex       0\n",
      "Age       0\n",
      "Height    0\n",
      "Weight    0\n",
      "Team      0\n",
      "NOC       0\n",
      "Games     0\n",
      "Year      0\n",
      "Season    0\n",
      "City      0\n",
      "Event     0\n",
      "Medal     0\n",
      "dtype: int64\n"
     ]
    }
   ],
   "source": [
    "missing=df.isnull() \n",
    "no_mis=missing.sum() \n",
    "print(no_mis)"
   ]
  },
  {
   "cell_type": "code",
   "execution_count": 14,
   "id": "3b143fe3",
   "metadata": {},
   "outputs": [
    {
     "name": "stdout",
     "output_type": "stream",
     "text": [
      "ID        0.0\n",
      "Name      0.0\n",
      "Sex       0.0\n",
      "Age       0.0\n",
      "Height    0.0\n",
      "Weight    0.0\n",
      "Team      0.0\n",
      "NOC       0.0\n",
      "Games     0.0\n",
      "Year      0.0\n",
      "Season    0.0\n",
      "City      0.0\n",
      "Event     0.0\n",
      "Medal     0.0\n",
      "dtype: float64\n"
     ]
    }
   ],
   "source": [
    "print((no_mis/len(df))*100) #this shows that the data is completely clean"
   ]
  },
  {
   "cell_type": "code",
   "execution_count": 15,
   "id": "f67dcc7a",
   "metadata": {},
   "outputs": [
    {
     "data": {
      "image/png": "[encoded data removed]",
      "text/plain": [
       "<Figure size 432x288 with 1 Axes>"
      ]
     },
     "metadata": {
      "needs_background": "light"
     },
     "output_type": "display_data"
    }
   ],
   "source": [
    "import matplotlib.pyplot as plt\n",
    "from matplotlib.pyplot import boxplot,show\n",
    "values=df.Age\n",
    "plt.boxplot(values,vert=False)\n",
    "plt.show() #the boxplot shows that there are athletes over 40 years as outliers(Here they are not outliers\n",
    "#as there can be atlheles over the age of 40)"
   ]
  },
  {
   "cell_type": "code",
   "execution_count": 16,
   "id": "f2c1e40b",
   "metadata": {},
   "outputs": [
    {
     "data": {
      "image/png": "[encoded data removed]",
      "text/plain": [
       "<Figure size 432x288 with 1 Axes>"
      ]
     },
     "metadata": {
      "needs_background": "light"
     },
     "output_type": "display_data"
    }
   ],
   "source": [
    "values=df.Height\n",
    "plt.boxplot(values,vert=False)\n",
    "plt.show()"
   ]
  },
  {
   "cell_type": "code",
   "execution_count": 17,
   "id": "d9cc8e2f",
   "metadata": {},
   "outputs": [
    {
     "data": {
      "image/png": "[encoded data removed]",
      "text/plain": [
       "<Figure size 432x288 with 1 Axes>"
      ]
     },
     "metadata": {
      "needs_background": "light"
     },
     "output_type": "display_data"
    }
   ],
   "source": [
    "values=df.Weight\n",
    "plt.boxplot(values,vert=False)\n",
    "plt.show()"
   ]
  },
  {
   "cell_type": "code",
   "execution_count": 18,
   "id": "b5c447d9",
   "metadata": {},
   "outputs": [
    {
     "name": "stdout",
     "output_type": "stream",
     "text": [
      "Mean age of olympic medallists  25.976437323279924\n"
     ]
    }
   ],
   "source": [
    "import statistics as st\n",
    "print('Mean age of olympic medallists ',st.mean(df['Age']))"
   ]
  },
  {
   "cell_type": "code",
   "execution_count": 19,
   "id": "5a9da45b",
   "metadata": {},
   "outputs": [
    {
     "name": "stdout",
     "output_type": "stream",
     "text": [
      "Number of  medallists \n",
      " Silver    357\n",
      "Gold      352\n",
      "Bronze    352\n",
      "Name: Medal, dtype: int64\n"
     ]
    }
   ],
   "source": [
    "print('Number of  medallists \\n',df['Medal'].value_counts())"
   ]
  },
  {
   "cell_type": "code",
   "execution_count": 20,
   "id": "62dc6680",
   "metadata": {},
   "outputs": [
    {
     "name": "stdout",
     "output_type": "stream",
     "text": [
      "Number of female/male medallists\n",
      " M    637\n",
      "F    424\n",
      "Name: Sex, dtype: int64\n"
     ]
    }
   ],
   "source": [
    "print('Number of female/male medallists\\n',df['Sex'].value_counts())"
   ]
  },
  {
   "cell_type": "code",
   "execution_count": 21,
   "id": "c6f4d19a",
   "metadata": {},
   "outputs": [
    {
     "name": "stdout",
     "output_type": "stream",
     "text": [
      "Countries that have won most medals\n",
      " Bulgaria               225\n",
      "Spain                  173\n",
      "Sweden                 140\n",
      "Czechoslovakia          80\n",
      "Japan                   71\n",
      "Great Britain           37\n",
      "Canada                  28\n",
      "Tanzania                27\n",
      "Cote d'Ivoire           24\n",
      "Belgium                 22\n",
      "France                  21\n",
      "New Zealand             20\n",
      "Norway                  20\n",
      "Kenya                   19\n",
      "Switzerland             18\n",
      "Italy                   14\n",
      "Uganda                  12\n",
      "Senegal                 11\n",
      "United States           10\n",
      "Hungary                  9\n",
      "Nigeria                  8\n",
      "Mexico                   7\n",
      "Romania                  7\n",
      "Poland                   7\n",
      "Finland                  6\n",
      "Netherlands              5\n",
      "Chinese Taipei           5\n",
      "Ireland                  4\n",
      "Australia                4\n",
      "Cuba                     4\n",
      "East Germany             3\n",
      "Austria                  3\n",
      "Trinidad and Tobago      2\n",
      "Portugal                 2\n",
      "Soviet Union             2\n",
      "Djibouti                 2\n",
      "Morocco                  2\n",
      "Ethiopia                 1\n",
      "Tunisia                  1\n",
      "Jamaica                  1\n",
      "Germany                  1\n",
      "West Germany             1\n",
      "China                    1\n",
      "Brazil                   1\n",
      "Name: Team, dtype: int64\n"
     ]
    }
   ],
   "source": [
    "print('Countries that have won most medals\\n',df['Team'].value_counts())"
   ]
  },
  {
   "cell_type": "code",
   "execution_count": 22,
   "id": "534f44a0",
   "metadata": {},
   "outputs": [
    {
     "name": "stdout",
     "output_type": "stream",
     "text": [
      "Bulgaria          225\n",
      "Spain             173\n",
      "Sweden            140\n",
      "Czechoslovakia     80\n",
      "Japan              71\n",
      "Great Britain      37\n",
      "Canada             28\n",
      "Tanzania           27\n",
      "Cote d'Ivoire      24\n",
      "Belgium            22\n",
      "Name: Team, dtype: int64\n"
     ]
    }
   ],
   "source": [
    "#top 10 countries\n",
    "top10=df.Team.value_counts().head(10)\n",
    "print(top10)"
   ]
  },
  {
   "cell_type": "code",
   "execution_count": 23,
   "id": "4e1a55a3",
   "metadata": {},
   "outputs": [
    {
     "data": {
      "image/png": "[encoded data removed]",
      "text/plain": [
       "<Figure size 864x576 with 1 Axes>"
      ]
     },
     "metadata": {
      "needs_background": "light"
     },
     "output_type": "display_data"
    }
   ],
   "source": [
    "top10.plot(kind=\"bar\",figsize=(12,8))\n",
    "plt.xlabel(\"Country\")\n",
    "plt.ylabel(\"Medals\")\n",
    "plt.show()"
   ]
  },
  {
   "cell_type": "code",
   "execution_count": 24,
   "id": "d33a61f9",
   "metadata": {},
   "outputs": [
    {
     "name": "stdout",
     "output_type": "stream",
     "text": [
      "Event                Athletics Men's 1,500 metres  \\\n",
      "Team                                                \n",
      "Australia                                       0   \n",
      "Austria                                         0   \n",
      "Belgium                                         0   \n",
      "Brazil                                          0   \n",
      "Bulgaria                                        1   \n",
      "Canada                                          0   \n",
      "China                                           0   \n",
      "Chinese Taipei                                  0   \n",
      "Cote d'Ivoire                                   0   \n",
      "Cuba                                            0   \n",
      "Czechoslovakia                                  5   \n",
      "Djibouti                                        1   \n",
      "East Germany                                    0   \n",
      "Ethiopia                                        0   \n",
      "Finland                                         1   \n",
      "France                                          0   \n",
      "Germany                                         0   \n",
      "Great Britain                                   0   \n",
      "Hungary                                         0   \n",
      "Ireland                                         0   \n",
      "Italy                                           0   \n",
      "Jamaica                                         0   \n",
      "Japan                                           2   \n",
      "Kenya                                           0   \n",
      "Mexico                                          0   \n",
      "Morocco                                         0   \n",
      "Netherlands                                     0   \n",
      "New Zealand                                     0   \n",
      "Nigeria                                         4   \n",
      "Norway                                          0   \n",
      "Poland                                          0   \n",
      "Portugal                                        0   \n",
      "Romania                                         0   \n",
      "Senegal                                         1   \n",
      "Soviet Union                                    0   \n",
      "Spain                                           0   \n",
      "Sweden                                          2   \n",
      "Switzerland                                     1   \n",
      "Tanzania                                        3   \n",
      "Trinidad and Tobago                             0   \n",
      "Tunisia                                         0   \n",
      "Uganda                                          0   \n",
      "United States                                   0   \n",
      "West Germany                                    0   \n",
      "\n",
      "Event                Athletics Men's 10,000 metres  \\\n",
      "Team                                                 \n",
      "Australia                                        0   \n",
      "Austria                                          0   \n",
      "Belgium                                          0   \n",
      "Brazil                                           0   \n",
      "Bulgaria                                         1   \n",
      "Canada                                           0   \n",
      "China                                            0   \n",
      "Chinese Taipei                                   1   \n",
      "Cote d'Ivoire                                    2   \n",
      "Cuba                                             2   \n",
      "Czechoslovakia                                   2   \n",
      "Djibouti                                         0   \n",
      "East Germany                                     0   \n",
      "Ethiopia                                         0   \n",
      "Finland                                          1   \n",
      "France                                           0   \n",
      "Germany                                          0   \n",
      "Great Britain                                    0   \n",
      "Hungary                                          4   \n",
      "Ireland                                          1   \n",
      "Italy                                            0   \n",
      "Jamaica                                          0   \n",
      "Japan                                            0   \n",
      "Kenya                                            0   \n",
      "Mexico                                           0   \n",
      "Morocco                                          0   \n",
      "Netherlands                                      0   \n",
      "New Zealand                                      1   \n",
      "Nigeria                                          0   \n",
      "Norway                                           0   \n",
      "Poland                                           0   \n",
      "Portugal                                         0   \n",
      "Romania                                          0   \n",
      "Senegal                                          0   \n",
      "Soviet Union                                     0   \n",
      "Spain                                            0   \n",
      "Sweden                                           0   \n",
      "Switzerland                                      3   \n",
      "Tanzania                                         3   \n",
      "Trinidad and Tobago                              0   \n",
      "Tunisia                                          0   \n",
      "Uganda                                           0   \n",
      "United States                                    0   \n",
      "West Germany                                     0   \n",
      "\n",
      "Event                Athletics Men's 100 metres  \\\n",
      "Team                                              \n",
      "Australia                                     0   \n",
      "Austria                                       0   \n",
      "Belgium                                       0   \n",
      "Brazil                                        0   \n",
      "Bulgaria                                      8   \n",
      "Canada                                        0   \n",
      "China                                         0   \n",
      "Chinese Taipei                                0   \n",
      "Cote d'Ivoire                                 0   \n",
      "Cuba                                          0   \n",
      "Czechoslovakia                                2   \n",
      "Djibouti                                      0   \n",
      "East Germany                                  0   \n",
      "Ethiopia                                      0   \n",
      "Finland                                       0   \n",
      "France                                        2   \n",
      "Germany                                       0   \n",
      "Great Britain                                 0   \n",
      "Hungary                                       0   \n",
      "Ireland                                       0   \n",
      "Italy                                         1   \n",
      "Jamaica                                       0   \n",
      "Japan                                         0   \n",
      "Kenya                                         2   \n",
      "Mexico                                        0   \n",
      "Morocco                                       0   \n",
      "Netherlands                                   0   \n",
      "New Zealand                                   0   \n",
      "Nigeria                                       0   \n",
      "Norway                                        3   \n",
      "Poland                                        0   \n",
      "Portugal                                      0   \n",
      "Romania                                       1   \n",
      "Senegal                                       0   \n",
      "Soviet Union                                  0   \n",
      "Spain                                         2   \n",
      "Sweden                                        0   \n",
      "Switzerland                                   0   \n",
      "Tanzania                                      0   \n",
      "Trinidad and Tobago                           0   \n",
      "Tunisia                                       0   \n",
      "Uganda                                        0   \n",
      "United States                                 0   \n",
      "West Germany                                  0   \n",
      "\n",
      "Event                Athletics Men's 110 metres Hurdles  \\\n",
      "Team                                                      \n",
      "Australia                                             0   \n",
      "Austria                                               0   \n",
      "Belgium                                               0   \n",
      "Brazil                                                0   \n",
      "Bulgaria                                             11   \n",
      "Canada                                                2   \n",
      "China                                                 0   \n",
      "Chinese Taipei                                        0   \n",
      "Cote d'Ivoire                                         1   \n",
      "Cuba                                                  0   \n",
      "Czechoslovakia                                        1   \n",
      "Djibouti                                              0   \n",
      "East Germany                                          0   \n",
      "Ethiopia                                              0   \n",
      "Finland                                               0   \n",
      "France                                                2   \n",
      "Germany                                               0   \n",
      "Great Britain                                         0   \n",
      "Hungary                                               0   \n",
      "Ireland                                               0   \n",
      "Italy                                                 0   \n",
      "Jamaica                                               0   \n",
      "Japan                                                 0   \n",
      "Kenya                                                 0   \n",
      "Mexico                                                0   \n",
      "Morocco                                               0   \n",
      "Netherlands                                           0   \n",
      "New Zealand                                           0   \n",
      "Nigeria                                               0   \n",
      "Norway                                                0   \n",
      "Poland                                                0   \n",
      "Portugal                                              0   \n",
      "Romania                                               0   \n",
      "Senegal                                               0   \n",
      "Soviet Union                                          0   \n",
      "Spain                                                 2   \n",
      "Sweden                                                1   \n",
      "Switzerland                                           1   \n",
      "Tanzania                                              0   \n",
      "Trinidad and Tobago                                   0   \n",
      "Tunisia                                               0   \n",
      "Uganda                                                0   \n",
      "United States                                         0   \n",
      "West Germany                                          0   \n",
      "\n",
      "Event                Athletics Men's 20 kilometres Walk  \\\n",
      "Team                                                      \n",
      "Australia                                             0   \n",
      "Austria                                               0   \n",
      "Belgium                                               0   \n",
      "Brazil                                                0   \n",
      "Bulgaria                                              0   \n",
      "Canada                                                0   \n",
      "China                                                 0   \n",
      "Chinese Taipei                                        0   \n",
      "Cote d'Ivoire                                         3   \n",
      "Cuba                                                  0   \n",
      "Czechoslovakia                                        1   \n",
      "Djibouti                                              0   \n",
      "East Germany                                          0   \n",
      "Ethiopia                                              0   \n",
      "Finland                                               0   \n",
      "France                                                0   \n",
      "Germany                                               0   \n",
      "Great Britain                                         0   \n",
      "Hungary                                               0   \n",
      "Ireland                                               0   \n",
      "Italy                                                 0   \n",
      "Jamaica                                               0   \n",
      "Japan                                                 0   \n",
      "Kenya                                                 0   \n",
      "Mexico                                                0   \n",
      "Morocco                                               0   \n",
      "Netherlands                                           4   \n",
      "New Zealand                                           0   \n",
      "Nigeria                                               0   \n",
      "Norway                                                0   \n",
      "Poland                                                0   \n",
      "Portugal                                              0   \n",
      "Romania                                               0   \n",
      "Senegal                                               1   \n",
      "Soviet Union                                          0   \n",
      "Spain                                                 5   \n",
      "Sweden                                                6   \n",
      "Switzerland                                           0   \n",
      "Tanzania                                              0   \n",
      "Trinidad and Tobago                                   0   \n",
      "Tunisia                                               0   \n",
      "Uganda                                                0   \n",
      "United States                                         1   \n",
      "West Germany                                          0   \n",
      "\n",
      "Event                Athletics Men's 200 metres  \\\n",
      "Team                                              \n",
      "Australia                                     0   \n",
      "Austria                                       0   \n",
      "Belgium                                       0   \n",
      "Brazil                                        0   \n",
      "Bulgaria                                     12   \n",
      "Canada                                        0   \n",
      "China                                         0   \n",
      "Chinese Taipei                                0   \n",
      "Cote d'Ivoire                                 2   \n",
      "Cuba                                          0   \n",
      "Czechoslovakia                                1   \n",
      "Djibouti                                      0   \n",
      "East Germany                                  0   \n",
      "Ethiopia                                      0   \n",
      "Finland                                       0   \n",
      "France                                        0   \n",
      "Germany                                       0   \n",
      "Great Britain                                 0   \n",
      "Hungary                                       0   \n",
      "Ireland                                       0   \n",
      "Italy                                         0   \n",
      "Jamaica                                       0   \n",
      "Japan                                         0   \n",
      "Kenya                                         0   \n",
      "Mexico                                        1   \n",
      "Morocco                                       0   \n",
      "Netherlands                                   0   \n",
      "New Zealand                                   1   \n",
      "Nigeria                                       0   \n",
      "Norway                                        2   \n",
      "Poland                                        0   \n",
      "Portugal                                      0   \n",
      "Romania                                       1   \n",
      "Senegal                                       0   \n",
      "Soviet Union                                  0   \n",
      "Spain                                         1   \n",
      "Sweden                                        0   \n",
      "Switzerland                                   0   \n",
      "Tanzania                                      0   \n",
      "Trinidad and Tobago                           0   \n",
      "Tunisia                                       0   \n",
      "Uganda                                        0   \n",
      "United States                                 0   \n",
      "West Germany                                  0   \n",
      "\n",
      "Event                Athletics Men's 3,000 metres Steeplechase  \\\n",
      "Team                                                             \n",
      "Australia                                                    0   \n",
      "Austria                                                      0   \n",
      "Belgium                                                      0   \n",
      "Brazil                                                       0   \n",
      "Bulgaria                                                     2   \n",
      "Canada                                                       1   \n",
      "China                                                        0   \n",
      "Chinese Taipei                                               0   \n",
      "Cote d'Ivoire                                                0   \n",
      "Cuba                                                         0   \n",
      "Czechoslovakia                                               2   \n",
      "Djibouti                                                     0   \n",
      "East Germany                                                 0   \n",
      "Ethiopia                                                     0   \n",
      "Finland                                                      1   \n",
      "France                                                       0   \n",
      "Germany                                                      0   \n",
      "Great Britain                                                2   \n",
      "Hungary                                                      1   \n",
      "Ireland                                                      0   \n",
      "Italy                                                        0   \n",
      "Jamaica                                                      0   \n",
      "Japan                                                        0   \n",
      "Kenya                                                        0   \n",
      "Mexico                                                       0   \n",
      "Morocco                                                      1   \n",
      "Netherlands                                                  0   \n",
      "New Zealand                                                  0   \n",
      "Nigeria                                                      0   \n",
      "Norway                                                       0   \n",
      "Poland                                                       1   \n",
      "Portugal                                                     0   \n",
      "Romania                                                      0   \n",
      "Senegal                                                      0   \n",
      "Soviet Union                                                 0   \n",
      "Spain                                                        1   \n",
      "Sweden                                                       1   \n",
      "Switzerland                                                  1   \n",
      "Tanzania                                                     6   \n",
      "Trinidad and Tobago                                          0   \n",
      "Tunisia                                                      0   \n",
      "Uganda                                                       0   \n",
      "United States                                                0   \n",
      "West Germany                                                 0   \n",
      "\n",
      "Event                Athletics Men's 4 x 100 metres Relay  \\\n",
      "Team                                                        \n",
      "Australia                                               0   \n",
      "Austria                                                 0   \n",
      "Belgium                                                 0   \n",
      "Brazil                                                  0   \n",
      "Bulgaria                                               20   \n",
      "Canada                                                 16   \n",
      "China                                                   0   \n",
      "Chinese Taipei                                          0   \n",
      "Cote d'Ivoire                                           0   \n",
      "Cuba                                                    0   \n",
      "Czechoslovakia                                          5   \n",
      "Djibouti                                                0   \n",
      "East Germany                                            0   \n",
      "Ethiopia                                                0   \n",
      "Finland                                                 0   \n",
      "France                                                  4   \n",
      "Germany                                                 0   \n",
      "Great Britain                                           8   \n",
      "Hungary                                                 0   \n",
      "Ireland                                                 0   \n",
      "Italy                                                   0   \n",
      "Jamaica                                                 0   \n",
      "Japan                                                   4   \n",
      "Kenya                                                   4   \n",
      "Mexico                                                  0   \n",
      "Morocco                                                 0   \n",
      "Netherlands                                             0   \n",
      "New Zealand                                             0   \n",
      "Nigeria                                                 0   \n",
      "Norway                                                  5   \n",
      "Poland                                                  0   \n",
      "Portugal                                                0   \n",
      "Romania                                                 0   \n",
      "Senegal                                                 0   \n",
      "Soviet Union                                            0   \n",
      "Spain                                                  16   \n",
      "Sweden                                                  4   \n",
      "Switzerland                                             0   \n",
      "Tanzania                                                0   \n",
      "Trinidad and Tobago                                     0   \n",
      "Tunisia                                                 0   \n",
      "Uganda                                                  0   \n",
      "United States                                           0   \n",
      "West Germany                                            0   \n",
      "\n",
      "Event                Athletics Men's 4 x 400 metres Relay  \\\n",
      "Team                                                        \n",
      "Australia                                               4   \n",
      "Austria                                                 0   \n",
      "Belgium                                                 0   \n",
      "Brazil                                                  0   \n",
      "Bulgaria                                               24   \n",
      "Canada                                                  4   \n",
      "China                                                   0   \n",
      "Chinese Taipei                                          0   \n",
      "Cote d'Ivoire                                           4   \n",
      "Cuba                                                    0   \n",
      "Czechoslovakia                                         12   \n",
      "Djibouti                                                0   \n",
      "East Germany                                            0   \n",
      "Ethiopia                                                0   \n",
      "Finland                                                 0   \n",
      "France                                                  0   \n",
      "Germany                                                 0   \n",
      "Great Britain                                           4   \n",
      "Hungary                                                 0   \n",
      "Ireland                                                 0   \n",
      "Italy                                                   0   \n",
      "Jamaica                                                 0   \n",
      "Japan                                                  14   \n",
      "Kenya                                                   0   \n",
      "Mexico                                                  0   \n",
      "Morocco                                                 0   \n",
      "Netherlands                                             0   \n",
      "New Zealand                                             0   \n",
      "Nigeria                                                 0   \n",
      "Norway                                                  6   \n",
      "Poland                                                  0   \n",
      "Portugal                                                0   \n",
      "Romania                                                 4   \n",
      "Senegal                                                 0   \n",
      "Soviet Union                                            0   \n",
      "Spain                                                   5   \n",
      "Sweden                                                  4   \n",
      "Switzerland                                             0   \n",
      "Tanzania                                                8   \n",
      "Trinidad and Tobago                                     0   \n",
      "Tunisia                                                 0   \n",
      "Uganda                                                  0   \n",
      "United States                                           0   \n",
      "West Germany                                            0   \n",
      "\n",
      "Event                Athletics Men's 400 metres  ...  \\\n",
      "Team                                             ...   \n",
      "Australia                                     0  ...   \n",
      "Austria                                       0  ...   \n",
      "Belgium                                       0  ...   \n",
      "Brazil                                        0  ...   \n",
      "Bulgaria                                     13  ...   \n",
      "Canada                                        0  ...   \n",
      "China                                         1  ...   \n",
      "Chinese Taipei                                0  ...   \n",
      "Cote d'Ivoire                                 0  ...   \n",
      "Cuba                                          0  ...   \n",
      "Czechoslovakia                                0  ...   \n",
      "Djibouti                                      0  ...   \n",
      "East Germany                                  0  ...   \n",
      "Ethiopia                                      0  ...   \n",
      "Finland                                       0  ...   \n",
      "France                                        1  ...   \n",
      "Germany                                       0  ...   \n",
      "Great Britain                                 1  ...   \n",
      "Hungary                                       0  ...   \n",
      "Ireland                                       0  ...   \n",
      "Italy                                         0  ...   \n",
      "Jamaica                                       0  ...   \n",
      "Japan                                         0  ...   \n",
      "Kenya                                         0  ...   \n",
      "Mexico                                        0  ...   \n",
      "Morocco                                       0  ...   \n",
      "Netherlands                                   0  ...   \n",
      "New Zealand                                   1  ...   \n",
      "Nigeria                                       0  ...   \n",
      "Norway                                        0  ...   \n",
      "Poland                                        0  ...   \n",
      "Portugal                                      0  ...   \n",
      "Romania                                       1  ...   \n",
      "Senegal                                       0  ...   \n",
      "Soviet Union                                  0  ...   \n",
      "Spain                                         1  ...   \n",
      "Sweden                                        1  ...   \n",
      "Switzerland                                   0  ...   \n",
      "Tanzania                                      1  ...   \n",
      "Trinidad and Tobago                           0  ...   \n",
      "Tunisia                                       0  ...   \n",
      "Uganda                                        0  ...   \n",
      "United States                                 0  ...   \n",
      "West Germany                                  0  ...   \n",
      "\n",
      "Event                Athletics Women's 80 metres Hurdles  \\\n",
      "Team                                                       \n",
      "Australia                                              0   \n",
      "Austria                                                0   \n",
      "Belgium                                                0   \n",
      "Brazil                                                 0   \n",
      "Bulgaria                                               0   \n",
      "Canada                                                 0   \n",
      "China                                                  0   \n",
      "Chinese Taipei                                         0   \n",
      "Cote d'Ivoire                                          0   \n",
      "Cuba                                                   0   \n",
      "Czechoslovakia                                         0   \n",
      "Djibouti                                               0   \n",
      "East Germany                                           0   \n",
      "Ethiopia                                               0   \n",
      "Finland                                                0   \n",
      "France                                                 0   \n",
      "Germany                                                0   \n",
      "Great Britain                                          1   \n",
      "Hungary                                                0   \n",
      "Ireland                                                0   \n",
      "Italy                                                  0   \n",
      "Jamaica                                                0   \n",
      "Japan                                                  0   \n",
      "Kenya                                                  0   \n",
      "Mexico                                                 0   \n",
      "Morocco                                                0   \n",
      "Netherlands                                            0   \n",
      "New Zealand                                            3   \n",
      "Nigeria                                                0   \n",
      "Norway                                                 0   \n",
      "Poland                                                 0   \n",
      "Portugal                                               0   \n",
      "Romania                                                0   \n",
      "Senegal                                                0   \n",
      "Soviet Union                                           0   \n",
      "Spain                                                  0   \n",
      "Sweden                                                 0   \n",
      "Switzerland                                            0   \n",
      "Tanzania                                               0   \n",
      "Trinidad and Tobago                                    0   \n",
      "Tunisia                                                1   \n",
      "Uganda                                                 0   \n",
      "United States                                          1   \n",
      "West Germany                                           0   \n",
      "\n",
      "Event                Athletics Women's 800 metres  \\\n",
      "Team                                                \n",
      "Australia                                       0   \n",
      "Austria                                         1   \n",
      "Belgium                                         3   \n",
      "Brazil                                          0   \n",
      "Bulgaria                                        3   \n",
      "Canada                                          1   \n",
      "China                                           0   \n",
      "Chinese Taipei                                  0   \n",
      "Cote d'Ivoire                                   0   \n",
      "Cuba                                            0   \n",
      "Czechoslovakia                                  1   \n",
      "Djibouti                                        0   \n",
      "East Germany                                    0   \n",
      "Ethiopia                                        0   \n",
      "Finland                                         0   \n",
      "France                                          0   \n",
      "Germany                                         0   \n",
      "Great Britain                                   0   \n",
      "Hungary                                         0   \n",
      "Ireland                                         0   \n",
      "Italy                                           1   \n",
      "Jamaica                                         0   \n",
      "Japan                                           1   \n",
      "Kenya                                           0   \n",
      "Mexico                                          0   \n",
      "Morocco                                         0   \n",
      "Netherlands                                     0   \n",
      "New Zealand                                     0   \n",
      "Nigeria                                         1   \n",
      "Norway                                          0   \n",
      "Poland                                          0   \n",
      "Portugal                                        0   \n",
      "Romania                                         0   \n",
      "Senegal                                         0   \n",
      "Soviet Union                                    0   \n",
      "Spain                                           5   \n",
      "Sweden                                          4   \n",
      "Switzerland                                     0   \n",
      "Tanzania                                        0   \n",
      "Trinidad and Tobago                             0   \n",
      "Tunisia                                         0   \n",
      "Uganda                                          0   \n",
      "United States                                   0   \n",
      "West Germany                                    0   \n",
      "\n",
      "Event                Athletics Women's Discus Throw  \\\n",
      "Team                                                  \n",
      "Australia                                         0   \n",
      "Austria                                           1   \n",
      "Belgium                                           4   \n",
      "Brazil                                            0   \n",
      "Bulgaria                                          1   \n",
      "Canada                                            0   \n",
      "China                                             0   \n",
      "Chinese Taipei                                    0   \n",
      "Cote d'Ivoire                                     0   \n",
      "Cuba                                              0   \n",
      "Czechoslovakia                                    0   \n",
      "Djibouti                                          0   \n",
      "East Germany                                      0   \n",
      "Ethiopia                                          0   \n",
      "Finland                                           0   \n",
      "France                                            0   \n",
      "Germany                                           0   \n",
      "Great Britain                                     0   \n",
      "Hungary                                           0   \n",
      "Ireland                                           0   \n",
      "Italy                                             4   \n",
      "Jamaica                                           0   \n",
      "Japan                                             1   \n",
      "Kenya                                             0   \n",
      "Mexico                                            0   \n",
      "Morocco                                           0   \n",
      "Netherlands                                       0   \n",
      "New Zealand                                       0   \n",
      "Nigeria                                           0   \n",
      "Norway                                            0   \n",
      "Poland                                            0   \n",
      "Portugal                                          0   \n",
      "Romania                                           0   \n",
      "Senegal                                           0   \n",
      "Soviet Union                                      0   \n",
      "Spain                                             3   \n",
      "Sweden                                            5   \n",
      "Switzerland                                       0   \n",
      "Tanzania                                          0   \n",
      "Trinidad and Tobago                               0   \n",
      "Tunisia                                           0   \n",
      "Uganda                                            1   \n",
      "United States                                     1   \n",
      "West Germany                                      0   \n",
      "\n",
      "Event                Athletics Women's Heptathlon  \\\n",
      "Team                                                \n",
      "Australia                                       0   \n",
      "Austria                                         0   \n",
      "Belgium                                         0   \n",
      "Brazil                                          0   \n",
      "Bulgaria                                        2   \n",
      "Canada                                          0   \n",
      "China                                           0   \n",
      "Chinese Taipei                                  0   \n",
      "Cote d'Ivoire                                   0   \n",
      "Cuba                                            0   \n",
      "Czechoslovakia                                  0   \n",
      "Djibouti                                        0   \n",
      "East Germany                                    0   \n",
      "Ethiopia                                        0   \n",
      "Finland                                         0   \n",
      "France                                          0   \n",
      "Germany                                         0   \n",
      "Great Britain                                   0   \n",
      "Hungary                                         0   \n",
      "Ireland                                         0   \n",
      "Italy                                           0   \n",
      "Jamaica                                         0   \n",
      "Japan                                           1   \n",
      "Kenya                                           0   \n",
      "Mexico                                          0   \n",
      "Morocco                                         0   \n",
      "Netherlands                                     0   \n",
      "New Zealand                                     1   \n",
      "Nigeria                                         0   \n",
      "Norway                                          0   \n",
      "Poland                                          0   \n",
      "Portugal                                        0   \n",
      "Romania                                         0   \n",
      "Senegal                                         0   \n",
      "Soviet Union                                    0   \n",
      "Spain                                           0   \n",
      "Sweden                                          2   \n",
      "Switzerland                                     0   \n",
      "Tanzania                                        0   \n",
      "Trinidad and Tobago                             0   \n",
      "Tunisia                                         0   \n",
      "Uganda                                          0   \n",
      "United States                                   0   \n",
      "West Germany                                    0   \n",
      "\n",
      "Event                Athletics Women's High Jump  \\\n",
      "Team                                               \n",
      "Australia                                      0   \n",
      "Austria                                        0   \n",
      "Belgium                                        1   \n",
      "Brazil                                         0   \n",
      "Bulgaria                                       2   \n",
      "Canada                                         0   \n",
      "China                                          0   \n",
      "Chinese Taipei                                 0   \n",
      "Cote d'Ivoire                                  3   \n",
      "Cuba                                           0   \n",
      "Czechoslovakia                                 0   \n",
      "Djibouti                                       0   \n",
      "East Germany                                   1   \n",
      "Ethiopia                                       0   \n",
      "Finland                                        0   \n",
      "France                                         0   \n",
      "Germany                                        0   \n",
      "Great Britain                                  1   \n",
      "Hungary                                        0   \n",
      "Ireland                                        0   \n",
      "Italy                                          3   \n",
      "Jamaica                                        0   \n",
      "Japan                                          2   \n",
      "Kenya                                          0   \n",
      "Mexico                                         0   \n",
      "Morocco                                        0   \n",
      "Netherlands                                    0   \n",
      "New Zealand                                    1   \n",
      "Nigeria                                        0   \n",
      "Norway                                         0   \n",
      "Poland                                         0   \n",
      "Portugal                                       0   \n",
      "Romania                                        0   \n",
      "Senegal                                        1   \n",
      "Soviet Union                                   0   \n",
      "Spain                                          4   \n",
      "Sweden                                         2   \n",
      "Switzerland                                    0   \n",
      "Tanzania                                       0   \n",
      "Trinidad and Tobago                            0   \n",
      "Tunisia                                        0   \n",
      "Uganda                                         0   \n",
      "United States                                  0   \n",
      "West Germany                                   0   \n",
      "\n",
      "Event                Athletics Women's Javelin Throw  \\\n",
      "Team                                                   \n",
      "Australia                                          0   \n",
      "Austria                                            0   \n",
      "Belgium                                            2   \n",
      "Brazil                                             0   \n",
      "Bulgaria                                           2   \n",
      "Canada                                             0   \n",
      "China                                              0   \n",
      "Chinese Taipei                                     0   \n",
      "Cote d'Ivoire                                      0   \n",
      "Cuba                                               0   \n",
      "Czechoslovakia                                     3   \n",
      "Djibouti                                           0   \n",
      "East Germany                                       1   \n",
      "Ethiopia                                           0   \n",
      "Finland                                            0   \n",
      "France                                             1   \n",
      "Germany                                            0   \n",
      "Great Britain                                      0   \n",
      "Hungary                                            0   \n",
      "Ireland                                            0   \n",
      "Italy                                              0   \n",
      "Jamaica                                            0   \n",
      "Japan                                              1   \n",
      "Kenya                                              0   \n",
      "Mexico                                             0   \n",
      "Morocco                                            0   \n",
      "Netherlands                                        0   \n",
      "New Zealand                                        0   \n",
      "Nigeria                                            0   \n",
      "Norway                                             0   \n",
      "Poland                                             0   \n",
      "Portugal                                           0   \n",
      "Romania                                            0   \n",
      "Senegal                                            0   \n",
      "Soviet Union                                       0   \n",
      "Spain                                              2   \n",
      "Sweden                                             6   \n",
      "Switzerland                                        1   \n",
      "Tanzania                                           0   \n",
      "Trinidad and Tobago                                0   \n",
      "Tunisia                                            0   \n",
      "Uganda                                             2   \n",
      "United States                                      0   \n",
      "West Germany                                       0   \n",
      "\n",
      "Event                Athletics Women's Long Jump  Athletics Women's Marathon  \\\n",
      "Team                                                                           \n",
      "Australia                                      0                           0   \n",
      "Austria                                        0                           0   \n",
      "Belgium                                        3                           0   \n",
      "Brazil                                         0                           0   \n",
      "Bulgaria                                       2                           1   \n",
      "Canada                                         0                           0   \n",
      "China                                          0                           0   \n",
      "Chinese Taipei                                 0                           2   \n",
      "Cote d'Ivoire                                  0                           0   \n",
      "Cuba                                           0                           0   \n",
      "Czechoslovakia                                 3                           0   \n",
      "Djibouti                                       0                           0   \n",
      "East Germany                                   0                           0   \n",
      "Ethiopia                                       0                           0   \n",
      "Finland                                        0                           0   \n",
      "France                                         0                           0   \n",
      "Germany                                        0                           0   \n",
      "Great Britain                                  1                           0   \n",
      "Hungary                                        0                           0   \n",
      "Ireland                                        0                           0   \n",
      "Italy                                          1                           0   \n",
      "Jamaica                                        0                           1   \n",
      "Japan                                          1                           0   \n",
      "Kenya                                          0                           0   \n",
      "Mexico                                         0                           0   \n",
      "Morocco                                        0                           0   \n",
      "Netherlands                                    0                           0   \n",
      "New Zealand                                    0                           1   \n",
      "Nigeria                                        0                           0   \n",
      "Norway                                         0                           0   \n",
      "Poland                                         0                           0   \n",
      "Portugal                                       0                           0   \n",
      "Romania                                        0                           0   \n",
      "Senegal                                        1                           0   \n",
      "Soviet Union                                   0                           0   \n",
      "Spain                                          6                           0   \n",
      "Sweden                                         3                           1   \n",
      "Switzerland                                    0                           0   \n",
      "Tanzania                                       0                           0   \n",
      "Trinidad and Tobago                            0                           0   \n",
      "Tunisia                                        0                           0   \n",
      "Uganda                                         0                           0   \n",
      "United States                                  0                           0   \n",
      "West Germany                                   0                           0   \n",
      "\n",
      "Event                Athletics Women's Pentathlon  Athletics Women's Shot Put  \n",
      "Team                                                                           \n",
      "Australia                                       0                           0  \n",
      "Austria                                         0                           0  \n",
      "Belgium                                         0                           1  \n",
      "Brazil                                          0                           0  \n",
      "Bulgaria                                        0                           0  \n",
      "Canada                                          0                           0  \n",
      "China                                           0                           0  \n",
      "Chinese Taipei                                  0                           0  \n",
      "Cote d'Ivoire                                   0                           0  \n",
      "Cuba                                            0                           0  \n",
      "Czechoslovakia                                  2                           0  \n",
      "Djibouti                                        0                           0  \n",
      "East Germany                                    1                           0  \n",
      "Ethiopia                                        0                           0  \n",
      "Finland                                         0                           0  \n",
      "France                                          0                           0  \n",
      "Germany                                         0                           0  \n",
      "Great Britain                                   0                           0  \n",
      "Hungary                                         0                           0  \n",
      "Ireland                                         0                           0  \n",
      "Italy                                           0                           2  \n",
      "Jamaica                                         0                           0  \n",
      "Japan                                           2                           1  \n",
      "Kenya                                           0                           0  \n",
      "Mexico                                          0                           0  \n",
      "Morocco                                         0                           0  \n",
      "Netherlands                                     0                           0  \n",
      "New Zealand                                     0                           1  \n",
      "Nigeria                                         0                           0  \n",
      "Norway                                          0                           0  \n",
      "Poland                                          0                           0  \n",
      "Portugal                                        0                           0  \n",
      "Romania                                         0                           0  \n",
      "Senegal                                         0                           1  \n",
      "Soviet Union                                    0                           1  \n",
      "Spain                                           5                           7  \n",
      "Sweden                                          4                           6  \n",
      "Switzerland                                     0                           0  \n",
      "Tanzania                                        0                           0  \n",
      "Trinidad and Tobago                             0                           0  \n",
      "Tunisia                                         0                           0  \n",
      "Uganda                                          1                           0  \n",
      "United States                                   0                           1  \n",
      "West Germany                                    0                           0  \n",
      "\n",
      "[44 rows x 44 columns]\n"
     ]
    }
   ],
   "source": [
    "print(pd.crosstab(df.Team,df.Event)) #prints the countries which have won the the individual events"
   ]
  },
  {
   "cell_type": "code",
   "execution_count": 25,
   "id": "ce6df93b",
   "metadata": {},
   "outputs": [
    {
     "name": "stdout",
     "output_type": "stream",
     "text": [
      "The top 20 individuals with most medals are \n",
      " Irena Szewiska-Kirszenstein            7\n",
      "Frederick Carlton \"Carl\" Lewis         7\n",
      "Renate Stecher (Meiner-)               6\n",
      "Delorez Florence Griffith Joyner       5\n",
      "Valeriy Pylypovych Borzov              5\n",
      "Donald O'Reilly \"Don\" Quarrie          4\n",
      "Christina Brehmer-Lathan               4\n",
      "Brbel Eckert-Wckel                     4\n",
      "Valerie Ann Brisco-Hooks               4\n",
      "Mohamad Tlili ben Abdallah Gammoudi    4\n",
      "Lasse Artturi Virn                     4\n",
      "Marlies Oelsner-Ghr                    4\n",
      "Evelyn Ashford (-Washington)           4\n",
      "Kipchoge Hezekieh \"Kip\" Keino          4\n",
      "Annegret Richter (Irrgang-)            4\n",
      "Viktor Saneyev                         4\n",
      "Sebastian Newbold \"Seb\" Coe            4\n",
      "Wyomia Tyus (-Simburg)                 4\n",
      "Edwin Corley Moses                     3\n",
      "Mamo Wolde                             3\n",
      "Name: Name, dtype: int64\n"
     ]
    }
   ],
   "source": [
    "print(\"The top 20 individuals with most medals are \\n\",df.Name.value_counts().head(20))"
   ]
  },
  {
   "cell_type": "code",
   "execution_count": 26,
   "id": "abc63a41",
   "metadata": {},
   "outputs": [
    {
     "name": "stdout",
     "output_type": "stream",
     "text": [
      "Frederick Carlton \"Carl\" Lewis    7\n",
      "Valeriy Pylypovych Borzov         5\n",
      "Kipchoge Hezekieh \"Kip\" Keino     4\n",
      "Sebastian Newbold \"Seb\" Coe       4\n",
      "Lasse Artturi Virn                4\n",
      "                                 ..\n",
      "Vyacheslav Ivanovich Ivanenko     1\n",
      "Edgar Itt                         1\n",
      "Gary Ronald Honey                 1\n",
      "Willi Holdorf                     1\n",
      "Krzysztof Zwoliski                1\n",
      "Name: Name, Length: 494, dtype: int64\n",
      "The most successful male athete is  Frederick Carlton \"Carl\" Lewis\n"
     ]
    }
   ],
   "source": [
    "print(df[df['Sex']=='M']['Name'].value_counts())\n",
    "print(\"The most successful male athete is \",df[df['Sex']=='M']['Name'].value_counts().index[0])"
   ]
  },
  {
   "cell_type": "code",
   "execution_count": 27,
   "id": "b8ef77f5",
   "metadata": {},
   "outputs": [
    {
     "name": "stdout",
     "output_type": "stream",
     "text": [
      "Irena Szewiska-Kirszenstein            7\n",
      "Renate Stecher (Meiner-)               6\n",
      "Delorez Florence Griffith Joyner       5\n",
      "Marlies Oelsner-Ghr                    4\n",
      "Valerie Ann Brisco-Hooks               4\n",
      "                                      ..\n",
      "Dagmar Ksling (-Lhnenschlo)            1\n",
      "Evelin Kaufer (-Schmuck)               1\n",
      "Tsvetanka Mincheva Khristova           1\n",
      "Urszula Kielan (-Lipiec)               1\n",
      "Galina Ivanovna Zybina (-Fyodorova)    1\n",
      "Name: Name, Length: 300, dtype: int64\n",
      "The most successful female athlete is  Irena Szewiska-Kirszenstein\n"
     ]
    }
   ],
   "source": [
    "print(df[df['Sex']=='F']['Name'].value_counts())\n",
    "print(\"The most successful female athlete is \",df[df['Sex']=='F']['Name'].value_counts().index[0])"
   ]
  },
  {
   "cell_type": "code",
   "execution_count": 28,
   "id": "bb1724be",
   "metadata": {},
   "outputs": [
    {
     "name": "stdout",
     "output_type": "stream",
     "text": [
      "Spain                  67\n",
      "Bulgaria               41\n",
      "Japan                  39\n",
      "Sweden                 39\n",
      "Czechoslovakia         29\n",
      "Canada                 22\n",
      "Cote d'Ivoire          13\n",
      "Kenya                   8\n",
      "Belgium                 6\n",
      "France                  6\n",
      "Great Britain           6\n",
      "New Zealand             6\n",
      "Romania                 5\n",
      "Italy                   5\n",
      "Tanzania                5\n",
      "Norway                  5\n",
      "Uganda                  5\n",
      "Hungary                 4\n",
      "Australia               4\n",
      "Mexico                  4\n",
      "Poland                  4\n",
      "Nigeria                 4\n",
      "Switzerland             4\n",
      "Senegal                 3\n",
      "United States           3\n",
      "Chinese Taipei          2\n",
      "Soviet Union            2\n",
      "East Germany            2\n",
      "Finland                 1\n",
      "West Germany            1\n",
      "Djibouti                1\n",
      "Tunisia                 1\n",
      "Trinidad and Tobago     1\n",
      "Austria                 1\n",
      "Cuba                    1\n",
      "Ireland                 1\n",
      "Portugal                1\n",
      "Name: Team, dtype: int64\n",
      "The country that has won the most gold is  Spain\n"
     ]
    }
   ],
   "source": [
    "print(df[df['Medal']=='Gold']['Team'].value_counts())\n",
    "print(\"The country that has won the most gold is \",df[df['Medal']=='Gold']['Team'].value_counts().index[0])"
   ]
  },
  {
   "cell_type": "code",
   "execution_count": 29,
   "id": "c3026848",
   "metadata": {},
   "outputs": [
    {
     "name": "stdout",
     "output_type": "stream",
     "text": [
      "Bulgaria          119\n",
      "Spain              65\n",
      "Sweden             50\n",
      "Japan              15\n",
      "Czechoslovakia     13\n",
      "Tanzania           13\n",
      "Great Britain      12\n",
      "Switzerland         9\n",
      "Cote d'Ivoire       8\n",
      "Belgium             8\n",
      "New Zealand         5\n",
      "Hungary             4\n",
      "Uganda              3\n",
      "Canada              3\n",
      "France              3\n",
      "Netherlands         3\n",
      "Nigeria             3\n",
      "Senegal             3\n",
      "Ireland             3\n",
      "Italy               3\n",
      "United States       2\n",
      "Chinese Taipei      2\n",
      "Norway              1\n",
      "Finland             1\n",
      "Germany             1\n",
      "Romania             1\n",
      "Poland              1\n",
      "Cuba                1\n",
      "Mexico              1\n",
      "Austria             1\n",
      "Name: Team, dtype: int64\n",
      "The country that has won the most silver is  Bulgaria\n"
     ]
    }
   ],
   "source": [
    "print(df[df['Medal']=='Silver']['Team'].value_counts())\n",
    "print(\"The country that has won the most silver is \",df[df['Medal']=='Silver']['Team'].value_counts().index[0])"
   ]
  },
  {
   "cell_type": "code",
   "execution_count": 30,
   "id": "63d546b1",
   "metadata": {},
   "outputs": [
    {
     "name": "stdout",
     "output_type": "stream",
     "text": [
      "Bulgaria               65\n",
      "Sweden                 51\n",
      "Spain                  41\n",
      "Czechoslovakia         38\n",
      "Great Britain          19\n",
      "Japan                  17\n",
      "Norway                 14\n",
      "France                 12\n",
      "Kenya                  11\n",
      "New Zealand             9\n",
      "Tanzania                9\n",
      "Belgium                 8\n",
      "Italy                   6\n",
      "United States           5\n",
      "Senegal                 5\n",
      "Switzerland             5\n",
      "Finland                 4\n",
      "Uganda                  4\n",
      "Cote d'Ivoire           3\n",
      "Canada                  3\n",
      "Netherlands             2\n",
      "Poland                  2\n",
      "Mexico                  2\n",
      "Cuba                    2\n",
      "Morocco                 2\n",
      "Ethiopia                1\n",
      "Jamaica                 1\n",
      "Portugal                1\n",
      "Djibouti                1\n",
      "Chinese Taipei          1\n",
      "Romania                 1\n",
      "Austria                 1\n",
      "Nigeria                 1\n",
      "Trinidad and Tobago     1\n",
      "East Germany            1\n",
      "China                   1\n",
      "Brazil                  1\n",
      "Hungary                 1\n",
      "Name: Team, dtype: int64\n",
      "The country that has won the most bronze is  Bulgaria\n"
     ]
    }
   ],
   "source": [
    "print(df[df['Medal']=='Bronze']['Team'].value_counts())\n",
    "print(\"The country that has won the most bronze is \",df[df['Medal']=='Bronze']['Team'].value_counts().index[0])"
   ]
  },
  {
   "cell_type": "code",
   "execution_count": 31,
   "id": "54804da7",
   "metadata": {},
   "outputs": [
    {
     "name": "stdout",
     "output_type": "stream",
     "text": [
      "Pietro Paolo Mennea                2\n",
      "John Gates Powell                  2\n",
      "Edwin Anthony Roberts              2\n",
      "Jri Tamm                           2\n",
      "Dwight Edwin Stones                2\n",
      "                                  ..\n",
      "Bernhard Erich \"Bernd\" Herrmann    1\n",
      "Klaus-Peter Hildenbrand            1\n",
      "Thomas Lionel \"Tom\" Hill           1\n",
      "Sterling Dale Hinds                1\n",
      "Mauro Carlo Zuliani                1\n",
      "Name: Name, Length: 198, dtype: int64\n",
      "The male athlete with most gold medals is  Pietro Paolo Mennea\n"
     ]
    },
    {
     "name": "stderr",
     "output_type": "stream",
     "text": [
      "C:\\Users\\info\\AppData\\Local\\Temp\\ipykernel_42244\\3498012622.py:1: UserWarning: Boolean Series key will be reindexed to match DataFrame index.\n",
      "  print(df[df['Medal']=='Gold'][df['Sex']=='M']['Name'].value_counts())\n",
      "C:\\Users\\info\\AppData\\Local\\Temp\\ipykernel_42244\\3498012622.py:2: UserWarning: Boolean Series key will be reindexed to match DataFrame index.\n",
      "  print(\"The male athlete with most gold medals is \",df[df['Medal']=='Gold'][df['Sex']=='M']['Name'].value_counts().index[0])\n"
     ]
    }
   ],
   "source": [
    "print(df[df['Medal']=='Gold'][df['Sex']=='M']['Name'].value_counts())\n",
    "print(\"The male athlete with most gold medals is \",df[df['Medal']=='Gold'][df['Sex']=='M']['Name'].value_counts().index[0])"
   ]
  },
  {
   "cell_type": "code",
   "execution_count": 32,
   "id": "55cb6da2",
   "metadata": {},
   "outputs": [
    {
     "name": "stdout",
     "output_type": "stream",
     "text": [
      "Kathryn Jane \"Kathy\" Smallwood-Cook                      3\n",
      "Merlene Joyce Ottey-Page                                 3\n",
      "Heike Gabriela Drechsler (Daute-)                        2\n",
      "Beverley Lanita \"Bev\" Goddard-Callender                  2\n",
      "Burglinde Pollak (-Grimm)                                2\n",
      "                                                        ..\n",
      "Yelena Yegorovna Gorchakova                              1\n",
      "Maria Francisca Philomena \"Mia\" Gommers (-Hoogakkers)    1\n",
      "Heide-Elke Gaugel (-Hudak)                               1\n",
      "Kimberly Ann \"Kim\" Gallagher                             1\n",
      "Galina Ivanovna Zybina (-Fyodorova)                      1\n",
      "Name: Name, Length: 129, dtype: int64\n",
      "The female athlete with most gold medals is  Kathryn Jane \"Kathy\" Smallwood-Cook\n"
     ]
    },
    {
     "name": "stderr",
     "output_type": "stream",
     "text": [
      "C:\\Users\\info\\AppData\\Local\\Temp\\ipykernel_42244\\3985763888.py:1: UserWarning: Boolean Series key will be reindexed to match DataFrame index.\n",
      "  print(df[df['Medal']=='Gold'][df['Sex']=='F']['Name'].value_counts())\n",
      "C:\\Users\\info\\AppData\\Local\\Temp\\ipykernel_42244\\3985763888.py:2: UserWarning: Boolean Series key will be reindexed to match DataFrame index.\n",
      "  print(\"The female athlete with most gold medals is \",df[df['Medal']=='Gold'][df['Sex']=='F']['Name'].value_counts().index[0])\n"
     ]
    }
   ],
   "source": [
    "print(df[df['Medal']=='Gold'][df['Sex']=='F']['Name'].value_counts())\n",
    "print(\"The female athlete with most gold medals is \",df[df['Medal']=='Gold'][df['Sex']=='F']['Name'].value_counts().index[0])"
   ]
  },
  {
   "cell_type": "code",
   "execution_count": 33,
   "id": "19b871c9",
   "metadata": {},
   "outputs": [
    {
     "name": "stdout",
     "output_type": "stream",
     "text": [
      "Average age of female madallists is  25.6686320754717\n"
     ]
    }
   ],
   "source": [
    "print('Average age of female madallists is ',st.mean(df[df['Sex']=='F']['Age']))"
   ]
  },
  {
   "cell_type": "code",
   "execution_count": 34,
   "id": "363968c4",
   "metadata": {},
   "outputs": [
    {
     "name": "stdout",
     "output_type": "stream",
     "text": [
      "The average age of male medallists is  26.181318681318682\n"
     ]
    }
   ],
   "source": [
    "print(\"The average age of male medallists is \",st.mean(df[df['Sex']=='M']['Age']))"
   ]
  },
  {
   "cell_type": "code",
   "execution_count": 35,
   "id": "c3f88bf4",
   "metadata": {},
   "outputs": [
    {
     "name": "stdout",
     "output_type": "stream",
     "text": [
      "The medals and events won by Spain is \n",
      " Athletics Women's 4 x 100 metres Relay       16\n",
      "Athletics Men's 4 x 100 metres Relay         16\n",
      "Athletics Women's 4 x 400 metres Relay       15\n",
      "Athletics Men's Hammer Throw                 13\n",
      "Athletics Men's Triple Jump                   9\n",
      "Athletics Women's Shot Put                    7\n",
      "Athletics Women's Long Jump                   6\n",
      "Athletics Men's Decathlon                     6\n",
      "Athletics Women's 1,500 metres                6\n",
      "Athletics Men's Javelin Throw                 5\n",
      "Athletics Women's 800 metres                  5\n",
      "Athletics Men's 20 kilometres Walk            5\n",
      "Athletics Women's Pentathlon                  5\n",
      "Athletics Men's 4 x 400 metres Relay          5\n",
      "Athletics Men's Shot Put                      5\n",
      "Athletics Men's High Jump                     5\n",
      "Athletics Men's Pole Vault                    4\n",
      "Athletics Women's High Jump                   4\n",
      "Athletics Men's 50 kilometres Walk            3\n",
      "Athletics Women's 400 metres                  3\n",
      "Athletics Women's Discus Throw                3\n",
      "Athletics Women's 100 metres Hurdles          3\n",
      "Athletics Women's 10,000 metres               2\n",
      "Athletics Men's Discus Throw                  2\n",
      "Athletics Men's Long Jump                     2\n",
      "Athletics Men's 110 metres Hurdles            2\n",
      "Athletics Men's 400 metres Hurdles            2\n",
      "Athletics Men's 800 metres                    2\n",
      "Athletics Men's 100 metres                    2\n",
      "Athletics Women's Javelin Throw               2\n",
      "Athletics Women's 100 metres                  1\n",
      "Athletics Women's 400 metres Hurdles          1\n",
      "Athletics Men's Marathon                      1\n",
      "Athletics Men's 400 metres                    1\n",
      "Athletics Men's 3,000 metres Steeplechase     1\n",
      "Athletics Women's 200 metres                  1\n",
      "Athletics Men's 200 metres                    1\n",
      "Athletics Women's 3,000 metres                1\n",
      "Name: Event, dtype: int64\n"
     ]
    }
   ],
   "source": [
    "v=df[df['Team']=='Spain']['Event'].value_counts()\n",
    "print(\"The medals and events won by Spain is \\n\",v)"
   ]
  },
  {
   "cell_type": "code",
   "execution_count": 36,
   "id": "963909e5",
   "metadata": {},
   "outputs": [
    {
     "data": {
      "image/png": "[encoded data removed]",
      "text/plain": [
       "<Figure size 864x576 with 1 Axes>"
      ]
     },
     "metadata": {
      "needs_background": "light"
     },
     "output_type": "display_data"
    }
   ],
   "source": [
    "v.plot(kind=\"bar\",figsize=(12,8))\n",
    "plt.xlabel(\"Events\")\n",
    "plt.ylabel(\"Number of medals\")\n",
    "plt.show()"
   ]
  },
  {
   "cell_type": "code",
   "execution_count": 37,
   "id": "d0a493f9",
   "metadata": {},
   "outputs": [
    {
     "name": "stdout",
     "output_type": "stream",
     "text": [
      "Valeriy Pylypovych Borzov                    5\n",
      "Viktor Saneyev                               4\n",
      "Volodymyr Stepanovych Holubnychiy            3\n",
      "Tatyana Vasilyevna Kazankina (-Kovalenko)    3\n",
      "Jnis Lsis                                    3\n",
      "                                            ..\n",
      "Eduard Viktorovich Gushchin                  1\n",
      "Saida Gunba (-Kikidze)                       1\n",
      "Tatyana Gennadyevna Goyshchik (-Nasonova)    1\n",
      "Yelena Yegorovna Gorchakova                  1\n",
      "Galina Ivanovna Zybina (-Fyodorova)          1\n",
      "Name: Name, Length: 132, dtype: int64\n",
      "The athlete from the Spain who has won the most medals is  Valeriy Pylypovych Borzov\n"
     ]
    }
   ],
   "source": [
    "\n",
    "print(df[df['Team']=='Spain']['Name'].value_counts())\n",
    "print(\"The athlete from the Spain who has won the most medals is \",df[df['Team']=='Spain']['Name'].value_counts().index[0])"
   ]
  },
  {
   "cell_type": "code",
   "execution_count": 38,
   "id": "bf098cd1",
   "metadata": {},
   "outputs": [],
   "source": [
    "from sklearn.metrics import r2_score"
   ]
  },
  {
   "cell_type": "code",
   "execution_count": 39,
   "id": "1469c5ed",
   "metadata": {},
   "outputs": [
    {
     "name": "stdout",
     "output_type": "stream",
     "text": [
      "y hat= -142.2457043790177 + 1.1665910744579713 x\n"
     ]
    },
    {
     "data": {
      "image/png": "[encoded data removed]",
      "text/plain": [
       "<Figure size 432x288 with 1 Axes>"
      ]
     },
     "metadata": {
      "needs_background": "light"
     },
     "output_type": "display_data"
    }
   ],
   "source": [
    "x=np.array(df.Height)\n",
    "y=np.array(df.Weight)\n",
    "plt.plot(x,y,'ro')\n",
    "b1,b0=np.polyfit(x,y,deg=1) #polyfit can be used for multiple regression as well\n",
    "print('y hat=',b0,'+',b1,'x')\n",
    "yp=b0+b1*x\n",
    "plt.plot(x,yp)\n",
    "plt.show()"
   ]
  },
  {
   "cell_type": "code",
   "execution_count": 40,
   "id": "e8ac74c5",
   "metadata": {},
   "outputs": [
    {
     "name": "stdout",
     "output_type": "stream",
     "text": [
      "0.38097900633610504\n"
     ]
    }
   ],
   "source": [
    "#coefficient of determination\n",
    "print(r2_score(y,yp))"
   ]
  },
  {
   "cell_type": "code",
   "execution_count": 41,
   "id": "5f430f74",
   "metadata": {},
   "outputs": [
    {
     "data": {
      "text/plain": [
       "<matplotlib.collections.LineCollection at 0x183e54d43a0>"
      ]
     },
     "execution_count": 41,
     "metadata": {},
     "output_type": "execute_result"
    },
    {
     "data": {
      "image/png": "[encoded data removed]",
      "text/plain": [
       "<Figure size 432x288 with 1 Axes>"
      ]
     },
     "metadata": {
      "needs_background": "light"
     },
     "output_type": "display_data"
    }
   ],
   "source": [
    "#residuals\n",
    "residuals=y-yp\n",
    "plt.plot(yp,residuals,'ro')#ro->color and the line\n",
    "plt.hlines(0,0,200) #y(horizontal line),xmin(0),xmax(12000)"
   ]
  },
  {
   "cell_type": "code",
   "execution_count": 42,
   "id": "190eb62f",
   "metadata": {},
   "outputs": [
    {
     "name": "stdout",
     "output_type": "stream",
     "text": [
      "y hat= -95.51620406798345 + 0.892999055787238 x\n"
     ]
    },
    {
     "data": {
      "image/png": "[encoded data removed]",
      "text/plain": [
       "<Figure size 432x288 with 1 Axes>"
      ]
     },
     "metadata": {
      "needs_background": "light"
     },
     "output_type": "display_data"
    }
   ],
   "source": [
    "x=df[df['Sex']=='F']['Height'] #cpnsidering only female athletes\n",
    "y=df[df['Sex']=='F']['Weight']\n",
    "plt.plot(x,y,'ro')\n",
    "b1,b0=np.polyfit(x,y,deg=1) #polyfit can be used for multiple regression as well\n",
    "print('y hat=',b0,'+',b1,'x')\n",
    "yp=b0+b1*x\n",
    "plt.plot(x,yp)\n",
    "plt.show()"
   ]
  },
  {
   "cell_type": "code",
   "execution_count": 43,
   "id": "8b6cfd40",
   "metadata": {},
   "outputs": [
    {
     "name": "stdout",
     "output_type": "stream",
     "text": [
      "0.17045783206452025\n"
     ]
    }
   ],
   "source": [
    "print(r2_score(y,yp))"
   ]
  },
  {
   "cell_type": "code",
   "execution_count": 44,
   "id": "d816e4af",
   "metadata": {},
   "outputs": [
    {
     "data": {
      "text/plain": [
       "<matplotlib.collections.LineCollection at 0x183e54d4970>"
      ]
     },
     "execution_count": 44,
     "metadata": {},
     "output_type": "execute_result"
    },
    {
     "data": {
      "image/png": "[encoded data removed]",
      "text/plain": [
       "<Figure size 432x288 with 1 Axes>"
      ]
     },
     "metadata": {
      "needs_background": "light"
     },
     "output_type": "display_data"
    }
   ],
   "source": [
    "residuals=y-yp\n",
    "plt.plot(yp,residuals,'ro')#ro->color and the line\n",
    "plt.hlines(0,0,150)"
   ]
  },
  {
   "cell_type": "code",
   "execution_count": 45,
   "id": "a27d0d5f",
   "metadata": {},
   "outputs": [
    {
     "name": "stdout",
     "output_type": "stream",
     "text": [
      "y hat= -148.76203038160264 + 1.2044920936825667 x\n"
     ]
    },
    {
     "data": {
      "image/png": "[encoded data removed]",
      "text/plain": [
       "<Figure size 432x288 with 1 Axes>"
      ]
     },
     "metadata": {
      "needs_background": "light"
     },
     "output_type": "display_data"
    }
   ],
   "source": [
    "x=df[df['Sex']=='M']['Height'] #cpnsidering only female athletes\n",
    "y=df[df['Sex']=='M']['Weight']\n",
    "plt.plot(x,y,'ro')\n",
    "b1,b0=np.polyfit(x,y,deg=1) #polyfit can be used for multiple regression as well\n",
    "print('y hat=',b0,'+',b1,'x')\n",
    "yp=b0+b1*x\n",
    "plt.plot(x,yp)\n",
    "plt.show()"
   ]
  },
  {
   "cell_type": "code",
   "execution_count": 46,
   "id": "299302c6",
   "metadata": {},
   "outputs": [
    {
     "name": "stdout",
     "output_type": "stream",
     "text": [
      "0.3121302901581203\n"
     ]
    }
   ],
   "source": [
    "print(r2_score(y,yp))"
   ]
  },
  {
   "cell_type": "code",
   "execution_count": 47,
   "id": "6c6cecfa",
   "metadata": {},
   "outputs": [
    {
     "data": {
      "text/plain": [
       "<matplotlib.collections.LineCollection at 0x183e57f4d00>"
      ]
     },
     "execution_count": 47,
     "metadata": {},
     "output_type": "execute_result"
    },
    {
     "data": {
      "image/png": "[encoded data removed]",
      "text/plain": [
       "<Figure size 432x288 with 1 Axes>"
      ]
     },
     "metadata": {
      "needs_background": "light"
     },
     "output_type": "display_data"
    }
   ],
   "source": [
    "residuals=y-yp\n",
    "plt.plot(yp,residuals,'ro')#ro->color and the line\n",
    "plt.hlines(0,0,120) #the height to weight relation is more consistent with male athletes when compared with female athletes"
   ]
  },
  {
   "cell_type": "code",
   "execution_count": 49,
   "id": "7a7f01c7",
   "metadata": {},
   "outputs": [
    {
     "name": "stdout",
     "output_type": "stream",
     "text": [
      "42.0\n"
     ]
    }
   ],
   "source": [
    "print(min(df['Weight']))"
   ]
  },
  {
   "cell_type": "code",
   "execution_count": null,
   "id": "eacda7ab",
   "metadata": {},
   "outputs": [],
   "source": []
  },
  {
   "cell_type": "code",
   "execution_count": null,
   "id": "cddedd92",
   "metadata": {},
   "outputs": [],
   "source": []
  }
 ],
 "metadata": {
  "kernelspec": {
   "display_name": "Python 3 (ipykernel)",
   "language": "python",
   "name": "python3"
  },
  "language_info": {
   "codemirror_mode": {
    "name": "ipython",
    "version": 3
   },
   "file_extension": ".py",
   "mimetype": "text/x-python",
   "name": "python",
   "nbconvert_exporter": "python",
   "pygments_lexer": "ipython3",
   "version": "3.9.12"
  }
 },
 "nbformat": 4,
 "nbformat_minor": 5
}
